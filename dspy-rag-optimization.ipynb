{
 "cells": [
  {
   "cell_type": "code",
   "execution_count": 1,
   "metadata": {},
   "outputs": [],
   "source": [
    "import dspy\n",
    "import chromadb\n",
    "import ujson\n",
    "import random\n",
    "\n",
    "from chromadb.utils import embedding_functions\n",
    "from dspy.evaluate import SemanticF1\n",
    "from dspy.retrieve.chromadb_rm import ChromadbRM\n",
    "from dspy.utils import download"
   ]
  },
  {
   "cell_type": "markdown",
   "metadata": {},
   "source": [
    "# Download the Data"
   ]
  },
  {
   "cell_type": "code",
   "execution_count": 2,
   "metadata": {},
   "outputs": [
    {
     "name": "stdout",
     "output_type": "stream",
     "text": [
      "{'doc_id': 131078, 'author': None, 'text': 'http://abtevrythng.blogspot.com/2010/06/adding-cer-certificates-on-your-android.html Shows how to actually achieve this. Worked fine for me. Try it out. In this article .cer to .pfx (which is what you need on Android) conversion is given. Simple method is given using which you can convert .cer to .pfx and use it to connect to the Wi-Fi network. Plus you dont need any Key to convert .cer to .pfx!!!'}\n",
      "{'question': 'why are my text messages coming up as maybe?', 'response': 'This is part of the Proactivity features new with iOS 9: It looks at info in emails to see if anyone with this number sent you an email and if it finds the phone number associated with a contact from your email, it will show you \"Maybe\". \\n\\nHowever, it has been suggested there is a bug in iOS 11.2 that can result in \"Maybe\" being displayed even when \"Find Contacts in Other Apps\" is disabled.', 'gold_doc_ids': [3956, 3957, 8034]}\n"
     ]
    },
    {
     "data": {
      "text/plain": [
       "2064"
      ]
     },
     "execution_count": 2,
     "metadata": {},
     "output_type": "execute_result"
    }
   ],
   "source": [
    "download(\"https://huggingface.co/dspy/cache/resolve/main/ragqa_arena_tech_corpus.jsonl\")\n",
    "with open(\"./ragqa_arena_tech_corpus.jsonl\", \"r\") as fp:\n",
    "    corpus = [ujson.loads(line) for line in fp]\n",
    "\n",
    "download(\n",
    "    \"https://huggingface.co/dspy/cache/resolve/main/ragqa_arena_tech_examples.jsonl\"\n",
    ")\n",
    "with open(\"ragqa_arena_tech_examples.jsonl\", \"r\") as fp:\n",
    "    qa = [ujson.loads(line) for line in fp]\n",
    "\n",
    "print(corpus[2])\n",
    "len(corpus)\n",
    "print(qa[2])\n",
    "len(qa)"
   ]
  },
  {
   "cell_type": "markdown",
   "metadata": {},
   "source": [
    "# Connect to ChromaDB"
   ]
  },
  {
   "cell_type": "code",
   "execution_count": 3,
   "metadata": {},
   "outputs": [],
   "source": [
    "client = chromadb.PersistentClient(path=\"./db\")\n",
    "collection = client.get_or_create_collection(name=\"test\")"
   ]
  },
  {
   "cell_type": "markdown",
   "metadata": {},
   "source": [
    "# Define Retrievers"
   ]
  },
  {
   "cell_type": "code",
   "execution_count": 4,
   "metadata": {},
   "outputs": [],
   "source": [
    "embed_fn = embedding_functions.DefaultEmbeddingFunction()\n",
    "retriever_model = ChromadbRM(\n",
    "    collection_name=\"test\", persist_directory=\"./db\", embedding_function=embed_fn, k=5\n",
    ")"
   ]
  },
  {
   "cell_type": "markdown",
   "metadata": {},
   "source": [
    "# Load LM"
   ]
  },
  {
   "cell_type": "code",
   "execution_count": 5,
   "metadata": {},
   "outputs": [],
   "source": [
    "lm = dspy.LM(model=\"ollama_chat/llama3.1\", temperature=0.0)\n",
    "dspy.configure(lm=lm)"
   ]
  },
  {
   "cell_type": "markdown",
   "metadata": {},
   "source": [
    "# Build RAG Module"
   ]
  },
  {
   "cell_type": "code",
   "execution_count": 6,
   "metadata": {},
   "outputs": [],
   "source": [
    "class RAG(dspy.Module):\n",
    "    def __init__(self):\n",
    "        self.respond = dspy.ChainOfThought(\"context, question -> response\")\n",
    "\n",
    "    def forward(self, question):\n",
    "        ret_docs = retriever_model(question)\n",
    "        context = [doc[\"long_text\"] for doc in ret_docs]\n",
    "        return self.respond(context=context, question=question)"
   ]
  },
  {
   "cell_type": "markdown",
   "metadata": {},
   "source": [
    "# DSPy RAG Optimization"
   ]
  },
  {
   "cell_type": "code",
   "execution_count": 7,
   "metadata": {},
   "outputs": [
    {
     "data": {
      "text/plain": [
       "(200, 300, 500)"
      ]
     },
     "execution_count": 7,
     "metadata": {},
     "output_type": "execute_result"
    }
   ],
   "source": [
    "qa_examples = [dspy.Example(**data).with_inputs(\"question\") for data in qa]\n",
    "random.Random(23).shuffle(qa_examples)\n",
    "\n",
    "train, dev, test = qa_examples[:200], qa_examples[200:500], qa_examples[500:1000]\n",
    "len(train), len(dev), len(test)"
   ]
  },
  {
   "cell_type": "code",
   "execution_count": 9,
   "metadata": {},
   "outputs": [
    {
     "data": {
      "text/plain": [
       "Example({'question': 'how can i show typing keyboard in record screen', 'response': 'One method involves using Screenflow, a software that includes this feature and is priced at $99.  \\nAdditionally, standalone apps like Keycastr and Mouseposé can be used for the same purpose.  \\nAnother alternative is showing the on-screen keyboard, although this results in a different aesthetic.', 'gold_doc_ids': [6129, 6130, 6131]}) (input_keys={'question'})"
      ]
     },
     "execution_count": 9,
     "metadata": {},
     "output_type": "execute_result"
    }
   ],
   "source": [
    "train[2]"
   ]
  },
  {
   "cell_type": "code",
   "execution_count": 11,
   "metadata": {},
   "outputs": [
    {
     "name": "stderr",
     "output_type": "stream",
     "text": [
      "2024/12/31 00:27:39 INFO dspy.teleprompt.mipro_optimizer_v2: \n",
      "RUNNING WITH THE FOLLOWING MEDIUM AUTO RUN SETTINGS:\n",
      "num_trials: 25\n",
      "minibatch: True\n",
      "num_candidates: 19\n",
      "valset size: 160\n",
      "\n",
      "2024/12/31 00:27:39 INFO dspy.teleprompt.mipro_optimizer_v2: \n",
      "==> STEP 1: BOOTSTRAP FEWSHOT EXAMPLES <==\n",
      "2024/12/31 00:27:39 INFO dspy.teleprompt.mipro_optimizer_v2: These will be used as few-shot example candidates for our program and for creating instructions.\n",
      "\n",
      "2024/12/31 00:27:39 INFO dspy.teleprompt.mipro_optimizer_v2: Bootstrapping N=19 sets of demonstrations...\n"
     ]
    },
    {
     "name": "stdout",
     "output_type": "stream",
     "text": [
      "Bootstrapping set 1/19\n",
      "Bootstrapping set 2/19\n",
      "Bootstrapping set 3/19\n"
     ]
    },
    {
     "name": "stderr",
     "output_type": "stream",
     "text": [
      " 12%|█▎        | 5/40 [01:03<07:23, 12.67s/it]\n"
     ]
    },
    {
     "name": "stdout",
     "output_type": "stream",
     "text": [
      "Bootstrapped 2 full traces after 5 examples for up to 1 rounds, amounting to 5 attempts.\n",
      "Bootstrapping set 4/19\n"
     ]
    },
    {
     "name": "stderr",
     "output_type": "stream",
     "text": [
      "  2%|▎         | 1/40 [00:09<06:19,  9.72s/it]\n"
     ]
    },
    {
     "name": "stdout",
     "output_type": "stream",
     "text": [
      "Bootstrapped 1 full traces after 1 examples for up to 1 rounds, amounting to 1 attempts.\n",
      "Bootstrapping set 5/19\n"
     ]
    },
    {
     "name": "stderr",
     "output_type": "stream",
     "text": [
      "  2%|▎         | 1/40 [00:09<06:22,  9.81s/it]\n"
     ]
    },
    {
     "name": "stdout",
     "output_type": "stream",
     "text": [
      "Bootstrapped 1 full traces after 1 examples for up to 1 rounds, amounting to 1 attempts.\n",
      "Bootstrapping set 6/19\n"
     ]
    },
    {
     "name": "stderr",
     "output_type": "stream",
     "text": [
      "  5%|▌         | 2/40 [00:25<08:12, 12.95s/it]\n"
     ]
    },
    {
     "name": "stdout",
     "output_type": "stream",
     "text": [
      "Bootstrapped 1 full traces after 2 examples for up to 1 rounds, amounting to 2 attempts.\n",
      "Bootstrapping set 7/19\n"
     ]
    },
    {
     "name": "stderr",
     "output_type": "stream",
     "text": [
      "  5%|▌         | 2/40 [00:20<06:21, 10.04s/it]\n"
     ]
    },
    {
     "name": "stdout",
     "output_type": "stream",
     "text": [
      "Bootstrapped 1 full traces after 2 examples for up to 1 rounds, amounting to 2 attempts.\n",
      "Bootstrapping set 8/19\n"
     ]
    },
    {
     "name": "stderr",
     "output_type": "stream",
     "text": [
      "  2%|▎         | 1/40 [00:08<05:24,  8.32s/it]\n"
     ]
    },
    {
     "name": "stdout",
     "output_type": "stream",
     "text": [
      "Bootstrapped 1 full traces after 1 examples for up to 1 rounds, amounting to 1 attempts.\n",
      "Bootstrapping set 9/19\n"
     ]
    },
    {
     "name": "stderr",
     "output_type": "stream",
     "text": [
      "  8%|▊         | 3/40 [00:30<06:15, 10.15s/it]\n"
     ]
    },
    {
     "name": "stdout",
     "output_type": "stream",
     "text": [
      "Bootstrapped 2 full traces after 3 examples for up to 1 rounds, amounting to 3 attempts.\n",
      "Bootstrapping set 10/19\n"
     ]
    },
    {
     "name": "stderr",
     "output_type": "stream",
     "text": [
      "  2%|▎         | 1/40 [00:10<06:31, 10.04s/it]\n"
     ]
    },
    {
     "name": "stdout",
     "output_type": "stream",
     "text": [
      "Bootstrapped 1 full traces after 1 examples for up to 1 rounds, amounting to 1 attempts.\n",
      "Bootstrapping set 11/19\n"
     ]
    },
    {
     "name": "stderr",
     "output_type": "stream",
     "text": [
      "  2%|▎         | 1/40 [00:11<07:15, 11.18s/it]\n"
     ]
    },
    {
     "name": "stdout",
     "output_type": "stream",
     "text": [
      "Bootstrapped 1 full traces after 1 examples for up to 1 rounds, amounting to 1 attempts.\n",
      "Bootstrapping set 12/19\n"
     ]
    },
    {
     "name": "stderr",
     "output_type": "stream",
     "text": [
      "  2%|▎         | 1/40 [00:06<04:06,  6.33s/it]\n"
     ]
    },
    {
     "name": "stdout",
     "output_type": "stream",
     "text": [
      "Bootstrapped 1 full traces after 1 examples for up to 1 rounds, amounting to 1 attempts.\n",
      "Bootstrapping set 13/19\n"
     ]
    },
    {
     "name": "stderr",
     "output_type": "stream",
     "text": [
      "  2%|▎         | 1/40 [00:10<07:02, 10.83s/it]\n"
     ]
    },
    {
     "name": "stdout",
     "output_type": "stream",
     "text": [
      "Bootstrapped 1 full traces after 1 examples for up to 1 rounds, amounting to 1 attempts.\n",
      "Bootstrapping set 14/19\n"
     ]
    },
    {
     "name": "stderr",
     "output_type": "stream",
     "text": [
      "  2%|▎         | 1/40 [00:09<06:00,  9.24s/it]\n"
     ]
    },
    {
     "name": "stdout",
     "output_type": "stream",
     "text": [
      "Bootstrapped 1 full traces after 1 examples for up to 1 rounds, amounting to 1 attempts.\n",
      "Bootstrapping set 15/19\n"
     ]
    },
    {
     "name": "stderr",
     "output_type": "stream",
     "text": [
      "  2%|▎         | 1/40 [00:04<02:47,  4.31s/it]\n"
     ]
    },
    {
     "name": "stdout",
     "output_type": "stream",
     "text": [
      "Bootstrapped 1 full traces after 1 examples for up to 1 rounds, amounting to 1 attempts.\n",
      "Bootstrapping set 16/19\n"
     ]
    },
    {
     "name": "stderr",
     "output_type": "stream",
     "text": [
      "  5%|▌         | 2/40 [00:20<06:37, 10.45s/it]\n"
     ]
    },
    {
     "name": "stdout",
     "output_type": "stream",
     "text": [
      "Bootstrapped 1 full traces after 2 examples for up to 1 rounds, amounting to 2 attempts.\n",
      "Bootstrapping set 17/19\n"
     ]
    },
    {
     "name": "stderr",
     "output_type": "stream",
     "text": [
      "  5%|▌         | 2/40 [00:15<04:46,  7.53s/it]\n"
     ]
    },
    {
     "name": "stdout",
     "output_type": "stream",
     "text": [
      "Bootstrapped 2 full traces after 2 examples for up to 1 rounds, amounting to 2 attempts.\n",
      "Bootstrapping set 18/19\n"
     ]
    },
    {
     "name": "stderr",
     "output_type": "stream",
     "text": [
      "  5%|▌         | 2/40 [00:11<03:41,  5.82s/it]\n"
     ]
    },
    {
     "name": "stdout",
     "output_type": "stream",
     "text": [
      "Bootstrapped 2 full traces after 2 examples for up to 1 rounds, amounting to 2 attempts.\n",
      "Bootstrapping set 19/19\n"
     ]
    },
    {
     "name": "stderr",
     "output_type": "stream",
     "text": [
      " 10%|█         | 4/40 [00:39<05:54,  9.84s/it]\n",
      "2024/12/31 00:32:46 INFO dspy.teleprompt.mipro_optimizer_v2: \n",
      "==> STEP 2: PROPOSE INSTRUCTION CANDIDATES <==\n",
      "2024/12/31 00:32:46 INFO dspy.teleprompt.mipro_optimizer_v2: We will use the few-shot examples from the previous step, a generated dataset summary, a summary of the program code, and a randomly selected prompting tip to propose instructions.\n"
     ]
    },
    {
     "name": "stdout",
     "output_type": "stream",
     "text": [
      "Bootstrapped 2 full traces after 4 examples for up to 1 rounds, amounting to 4 attempts.\n"
     ]
    },
    {
     "name": "stderr",
     "output_type": "stream",
     "text": [
      "2024/12/31 00:33:30 INFO dspy.teleprompt.mipro_optimizer_v2: \n",
      "Proposing instructions...\n",
      "\n",
      "2024/12/31 00:38:06 INFO dspy.teleprompt.mipro_optimizer_v2: Proposed Instructions for Predictor 0:\n",
      "\n",
      "2024/12/31 00:38:06 INFO dspy.teleprompt.mipro_optimizer_v2: 0: Given the fields `context`, `question`, produce the fields `response`.\n",
      "\n",
      "2024/12/31 00:38:06 INFO dspy.teleprompt.mipro_optimizer_v2: 1: Given a context and a question, use the retrieved information and reasoning to generate a response that is coherent and relevant.\n",
      "\n",
      "2024/12/31 00:38:06 INFO dspy.teleprompt.mipro_optimizer_v2: 2: Is it good practice to always have an autoincrement integer primary key?\n",
      "\n",
      "Reasoning: Let's think step by step in order to The question of whether it is good practice to always have an autoincrement integer primary key is a topic of debate among database designers. Some argue that it is a good idea, as it provides a unique identifier for each row and can be used as a foreign key in other tables. However, others point out that it may not always be necessary or desirable, especially if there are natural keys in the data that can serve as primary keys.\n",
      "\n",
      "One argument against always having an autoincrement integer primary key is that it can lead to unnecessary complexity and overhead. For example, if you have a table with a large number of rows, using an autoincrementing key can result in a significant amount of wasted space due to the need for clustering and indexing. Additionally, if you need to identify rows uniquely outside of the database, a carefully selected business key may be more suitable.\n",
      "\n",
      "On the other hand, some argue that having an autoincrement integer primary key is a good practice because it provides a simple and efficient way to identify each row uniquely within the database. It also allows for easy clustering and indexing, which can improve query performance. However, this approach may not always be necessary or desirable, especially if there are natural keys in the data that can serve as primary keys.\n",
      "\n",
      "Ultimately, whether it is good practice to always have an autoincrement integer primary key depends on the specific requirements of your database design. It is essential to consider factors such as data complexity, query performance, and scalability when making this decision.\n",
      "\n",
      "2024/12/31 00:38:06 INFO dspy.teleprompt.mipro_optimizer_v2: 3: You are a system administrator trying to determine whether Wayland or X11 is being used as the display server on a Linux system. Given the context and question, produce the response.\n",
      "\n",
      "Context: ['One way would be to open Activity Monitor, and check the process ID (PID) of running programs that are immediately before and after the X11 process.', 'dpkg -l|grep xserver will tell you if X11 (core system for most GUIs) is installed. To check if any desktops are installed, you will have to guess, as there are just too many. Try something like: dpkg -l|egrep -i (kde|gnome|lxde|xfce|mint|unity|fluxbox|openbox) | grep -v xserver.', 'The current resolution is stored in the memory of the X server. It is not stored in a file. The Xorg settings file wont help you since it only contains the initial configuration (and may not exist at all), but the resolution can be called dynamically. (I think the resolution actually appears in the X server logs, but you arent guaranteed to have access to the logs — for example if youre accessing the server remotely — and even if you do youd have to parse the logs which is a lot of work and error-prone.) Call xrandr. Thats what its for. You shouldnt need to worry about environments without it: its a basic tool, part of the standard X11 client distribution. In case you need to run on ancient systems that predate xrandr (its only 15 years old), you can call xdpyinfo, which has been part of the standard X11 client distribution for over two decades.', 'The Qubes solution is only more thorough in that it replaces the Unix basic isolation (distinct user ID) with a much more massive VM layer. Wayland does not seem to advertise anything about isolation so it is a safe bet that it does nothing in that respect. Also, Wayland tries to give almost-direct hardware access to applications when possible, so any security model in that situation would be relative to how the undocumented 3D hardware and closed-source driver collaborate to avoid a misplaced DMA transfer to gain extra rights -- this does not look like the best way to build security.']\n",
      "Question: how to know whether wayland or x11 is being used\n",
      "Reasoning: Let's think step by step in order to Based on the provided context, it seems that the system is using X11 as the display server. The text mentions various tools and commands related to X11, such as xrandr, xdpyinfo, and xauth, which suggests that X11 is being used.\n",
      "\n",
      "However, the question asks how to know whether Wayland or X11 is being used. To answer this, we can look for clues in the provided context. One possible clue is the mention of Qubes, an operating system that uses Xen to isolate applications from each other, and the fact that it does not seem to advertise anything about isolation related to Wayland.\n",
      "\n",
      "Another possible clue is the mention of xrandr and xdpyinfo, which are tools specifically designed for X11. If these tools are available on the system, it suggests that X11 is being used.\n",
      "Response: You can check if X11 or Wayland is being used by running the command `echo $XDG_SESSION_TYPE`. This will output either \"x11\" or \"wayland\", indicating which display server is being used. Alternatively, you can try running the commands `xrandr` and `xdpyinfo`, which are specific to X11. If these commands are available on the system, it suggests that X11 is being used.\n",
      "\n",
      "2024/12/31 00:38:06 INFO dspy.teleprompt.mipro_optimizer_v2: 4: You are an expert in natural language processing and generation, tasked with answering questions based on a given context. Given a list of module configurations for 'm6' and 'm7', along with some examples of input values and expected responses, use the RAG module to retrieve relevant documents from a database, pass them through a reasoning chain of thought, and generate a response to the question asked.\n",
      "\n",
      "2024/12/31 00:38:06 INFO dspy.teleprompt.mipro_optimizer_v2: 5: You are a system administrator seeking to start tmux with attach if a session exists. Given the context of multiple possible solutions and your question on how to achieve this, provide a step-by-step reasoning and response that summarizes the retrieved information.\n",
      "\n",
      "2024/12/31 00:38:06 INFO dspy.teleprompt.mipro_optimizer_v2: 6: To generate a response that provides step-by-step instructions or suggestions for how to perform a specific task in Linux based on the context provided, use the Predict module to take in the fields `context` and `question`, and produce the fields `reasoning` and `response`.\n",
      "\n",
      "2024/12/31 00:38:06 INFO dspy.teleprompt.mipro_optimizer_v2: 7: Generate a response that accurately summarizes what happens when someone is blocked on Viber, based on official documentation from VIBER themselves, given the context and question provided.\n",
      "\n",
      "This instruction aims to guide the Language Model in generating an informative response by considering the context and question provided. It emphasizes the importance of accuracy and relevance to the official documentation from VIBER.\n",
      "\n",
      "2024/12/31 00:38:06 INFO dspy.teleprompt.mipro_optimizer_v2: 8: To argue against the stance that a system is \"unhackable\" so why patch vulnerabilities, consider the following points:\n",
      "\n",
      "*   Analyze the potential business impact of a breach, including lost revenues, legal/regulatory fines, and damage to the company's image.\n",
      "*   Ask engineers to put their job and career on the line that the system will never be hacked. If the worst-case scenario has severe consequences, it may not be wise to continue using an End-of-Life (EOL) operating system without proper patching.\n",
      "*   Point out that there are no unhackable systems, as demonstrated by examples like Stuxnet and other side-channel attacks. Even airgapped systems can be vulnerable.\n",
      "*   Emphasize the importance of risk analysis and not relying solely on hardening or blindly upgrading the system.\n",
      "*   Highlight that software patches are a crucial measure for security, and there is no realistic substitute for them. Antiviruses, firewalls, and IDSes have limitations, and a core OS with security holes cannot be trusted.\n",
      "\n",
      "2024/12/31 00:38:06 INFO dspy.teleprompt.mipro_optimizer_v2: 9: Given a critical system failure where users are unable to access essential utilities due to missing Telnet and FTP programs in High Sierra (10.13), use the context and question provided to generate a response that outlines the necessary steps to restore these fundamental tools, including using Homebrew, MacPorts, or compiling from source.\n",
      "\n",
      "2024/12/31 00:38:06 INFO dspy.teleprompt.mipro_optimizer_v2: 10: To answer why UDP with reliability (implemented at application layer) is not a substitute of TCP, let's analyze the context provided in points [1] to [5]. The key points are:\n",
      "- TCP is more reliable because it ensures that all segments are received in order and any lost segments are retransmitted. UDP does not guarantee this.\n",
      "- UDP has addressing (ports) to which applications bind so that datagrams destined to bound applications get sent by UDP to the correct applications.\n",
      "- UDP can be useful for application-layer protocols to provide some, but not all features of TCP, and many applications or application-layer protocols cannot make use of, or are even damaged by, the reliability of TCP.\n",
      "- On a clean network they are pretty equivalent. There are cases where TCP will hang for periods (Anyone ever seen an HTTP screen freeze on load?) but it will not deliver garbage or mix up packets and rarely gives up completely. UDP can give the application layer more control over the traffic at the cost of an awful lot of work.\n",
      "- TCP is a very good general purpose implementation, but there are specific purposes that UDP can do that TCP either does very poorly or not at all--for instance: NEVER giving up (with TCP the connection sometimes hangs and you have to break the connection and restart it) Sending a fast stream of packets that dont require replies and you dont mind missing some occasionally (where only the most recent packet is important, any others can be discarded)--think game position updates--you might get a little Jump rather than each step, but you get the same result faster and more reliably.\n",
      "\n",
      "The response should explain why UDP with reliability implemented at the application layer cannot replace TCP in many cases, taking into account the points above.\n",
      "\n",
      "2024/12/31 00:38:06 INFO dspy.teleprompt.mipro_optimizer_v2: 11: To generate a response to the question \"what is the difference between a key escrow and a recovery agent?\" based on the provided context, we should identify the relevant information in the context that differentiates between a key escrow and a recovery agent. The key points to consider are:\n",
      "\n",
      "* A key escrow is described as someone who holds the keys for each user.\n",
      "* A recovery agent has a master key that can be used to decrypt data in case of emergency.\n",
      "\n",
      "Using this information, we should formulate a response that clearly explains the difference between these two concepts.\n",
      "\n",
      "2024/12/31 00:38:06 INFO dspy.teleprompt.mipro_optimizer_v2: 12: Given the context of monitoring disk IO, you are a system administrator trying to provide an informative response to a question. Based on this context, please generate a response that takes into account multiple perspectives and pieces of information from the given context.\n",
      "\n",
      "2024/12/31 00:38:06 INFO dspy.teleprompt.mipro_optimizer_v2: 13: You are a software developer tasked with understanding the purpose of using Data Transfer Objects (DTOs) in software development. Explain why DTOs are useful, what benefits they bring, and how they fit into a larger architecture.\n",
      "\n",
      "2024/12/31 00:38:06 INFO dspy.teleprompt.mipro_optimizer_v2: 14: The point of using DTOs is to encapsulate data from one layer or system to another, while hiding the underlying implementation details. This helps with:\n",
      "*   Decoupling: By using DTOs, you can decouple different layers or systems, making it easier to change or replace one without affecting the others.\n",
      "*   Data transformation: DTOs allow for easy data transformation between different formats or representations.\n",
      "*   Security: DTOs can help protect sensitive data by only exposing what's necessary to the consuming layer.\n",
      "*   Improved maintainability: With a clear separation of concerns, it's easier to understand and modify individual components without affecting the entire system.\n",
      "\n",
      "DTOs are not just simple property bags; they can have behavior and methods that make them more useful. They're an essential part of modern software architecture, helping to promote loose coupling, flexibility, and maintainability.\n",
      "\n",
      "2024/12/31 00:38:06 INFO dspy.teleprompt.mipro_optimizer_v2: 15: Given a context describing the file system hierarchy of various devices, including Android phones and Linux systems, and a question asking where applications are installed in the file system, generate a response that summarizes the relevant information from the context.\n",
      "\n",
      "2024/12/31 00:38:06 INFO dspy.teleprompt.mipro_optimizer_v2: 16: To restart the ssh daemon on Ubuntu, you can use the following commands:\n",
      "\n",
      "1. Open a terminal and type:\n",
      "```\n",
      "sudo service ssh restart\n",
      "```\n",
      "This will restart the ssh service.\n",
      "2. Alternatively, you can leverage upstart by typing:\n",
      "```\n",
      "sudo stop ssh\n",
      "sudo start ssh\n",
      "```\n",
      "This will also restart the ssh service.\n",
      "\n",
      "Note that these commands are specific to Ubuntu and may not work on other Linux distributions.\n",
      "\n",
      "2024/12/31 00:38:06 INFO dspy.teleprompt.mipro_optimizer_v2: 17: To answer this question, let's analyze the provided text step by step. We need to understand what CRT files are used for and how they relate to private keys.\n",
      "\n",
      "From [1], we see that Private Keys are not stored in CRT files and should never be given to a third party or exchanged via email without encrypting them. This suggests that CRT files do not contain private keys.\n",
      "\n",
      "In [3], it is mentioned that hosting providers, employees, or service providers may have access to the private key, but this does not imply that the CRT file contains the private key.\n",
      "\n",
      "From [4] and [5], we see that public keys are stored in CRT files, which can be publicly accessible. However, there is no mention of private keys being stored in CRT files.\n",
      "\n",
      "Therefore, based on the provided text, it appears that CRT files do not contain private keys.\n",
      "\n",
      "2024/12/31 00:38:06 INFO dspy.teleprompt.mipro_optimizer_v2: 18: You are a security expert tasked with advising on whether to encrypt connections inside a corporate network. Consider the various security concerns highlighted in the context provided, including insider threats, physical access to networks, and the potential for malware to be introduced through personal devices connected to the corporate network.\n",
      "\n",
      "Response: Yes, it is recommended to encrypt connections inside a corporate network. Even if the network is physically secured, there are risks associated with employees taking their laptops home and connecting them to the company network, which can introduce external threats. Encryption of connections within the network can help protect sensitive data from being accessed by unauthorized individuals.\n",
      "\n",
      "Additionally, as mentioned in point [3], providing login-passwords unencrypted can make it easier for an attacker who gains access to the network to obtain high-level credentials. Encrypting these credentials adds an extra layer of security and makes it more difficult for attackers to gain access to sensitive information.\n",
      "\n",
      "Furthermore, as noted in point [4], even with proper physical/building access controls, there are still risks associated with guests accessing the office and potentially connecting to unsecured networks. Encryption can help mitigate these risks by protecting data-in-flight within the network.\n",
      "\n",
      "While there may be some overhead in deploying a CA and SSL certificates to all resources (point [5]), it is generally recommended to prioritize encryption as a defensive stance, especially when handling sensitive information such as personal data for EU citizens under GDPR compliance.\n",
      "\n",
      "2024/12/31 00:38:06 INFO dspy.teleprompt.mipro_optimizer_v2: \n",
      "\n",
      "2024/12/31 00:38:06 INFO dspy.teleprompt.mipro_optimizer_v2: Evaluating the default program...\n",
      "\n"
     ]
    },
    {
     "name": "stdout",
     "output_type": "stream",
     "text": [
      "Average Metric: 98.72 / 158 (62.5%):  99%|█████████▉| 158/160 [13:07<00:08,  4.06s/it]"
     ]
    },
    {
     "name": "stderr",
     "output_type": "stream",
     "text": [
      "2024/12/31 00:51:20 ERROR dspy.utils.parallelizer: Error processing item Example({'question': 'how should i test randomness?', 'response': 'Run tests multiple times and visualize your data. \\nAnalyzing the results of these tests will allow you to determine whether the algorithm performs satisfactorily by ensuring all potential outcomes are represented and that their frequency is properly distributed.', 'gold_doc_ids': [4525]}) (input_keys={'question'}): Expected dict_keys(['reasoning', 'ground_truth_key_ideas', 'system_response_key_ideas', 'discussion', 'recall', 'precision']) but got dict_keys(['reasoning', 'ground_truth_key_ideas', 'system_response_key_ideas', 'discussion', 'recall']). Set `provide_traceback=True` to see the stack trace.\n"
     ]
    },
    {
     "name": "stdout",
     "output_type": "stream",
     "text": [
      "Average Metric: 99.20 / 159 (62.4%): 100%|██████████| 160/160 [13:19<00:00,  5.00s/it]"
     ]
    },
    {
     "name": "stderr",
     "output_type": "stream",
     "text": [
      "2024/12/31 00:51:26 INFO dspy.evaluate.evaluate: Average Metric: 99.1984138482478 / 160 (62.0%)\n",
      "2024/12/31 00:51:26 INFO dspy.teleprompt.mipro_optimizer_v2: Default program score: 62.0\n",
      "\n",
      "2024/12/31 00:51:26 INFO dspy.teleprompt.mipro_optimizer_v2: ==> STEP 3: FINDING OPTIMAL PROMPT PARAMETERS <==\n",
      "2024/12/31 00:51:26 INFO dspy.teleprompt.mipro_optimizer_v2: We will evaluate the program over a series of trials with different combinations of instructions and few-shot examples to find the optimal combination using Bayesian Optimization.\n",
      "\n",
      "/home/datum/miniforge3/envs/mlenv/lib/python3.12/site-packages/optuna/_experimental.py:31: ExperimentalWarning: Argument ``multivariate`` is an experimental feature. The interface can change in the future.\n",
      "  warnings.warn(\n",
      "2024/12/31 00:51:26 INFO dspy.teleprompt.mipro_optimizer_v2: == Minibatch Trial 1 / 25 ==\n"
     ]
    },
    {
     "name": "stdout",
     "output_type": "stream",
     "text": [
      "\n",
      "Average Metric: 16.71 / 25 (66.8%): 100%|██████████| 25/25 [02:59<00:00,  7.18s/it]"
     ]
    },
    {
     "name": "stderr",
     "output_type": "stream",
     "text": [
      "2024/12/31 00:54:25 INFO dspy.evaluate.evaluate: Average Metric: 16.706298003072195 / 25 (66.8%)\n",
      "2024/12/31 00:54:25 INFO dspy.teleprompt.mipro_optimizer_v2: Score: 66.83 on minibatch of size 25 with parameters ['Predictor 0: Instruction 12', 'Predictor 0: Few-Shot Set 7'].\n",
      "2024/12/31 00:54:25 INFO dspy.teleprompt.mipro_optimizer_v2: Minibatch scores so far: [66.83]\n",
      "2024/12/31 00:54:25 INFO dspy.teleprompt.mipro_optimizer_v2: Full eval scores so far: [62.0]\n",
      "2024/12/31 00:54:25 INFO dspy.teleprompt.mipro_optimizer_v2: Best full score so far: 62.0\n",
      "2024/12/31 00:54:25 INFO dspy.teleprompt.mipro_optimizer_v2: ============================\n",
      "\n",
      "\n",
      "2024/12/31 00:54:25 INFO dspy.teleprompt.mipro_optimizer_v2: == Minibatch Trial 2 / 25 ==\n"
     ]
    },
    {
     "name": "stdout",
     "output_type": "stream",
     "text": [
      "\n",
      "Average Metric: 17.41 / 25 (69.6%): 100%|██████████| 25/25 [02:50<00:00,  6.81s/it]"
     ]
    },
    {
     "name": "stderr",
     "output_type": "stream",
     "text": [
      "2024/12/31 00:57:15 INFO dspy.evaluate.evaluate: Average Metric: 17.40610715449425 / 25 (69.6%)\n",
      "2024/12/31 00:57:15 INFO dspy.teleprompt.mipro_optimizer_v2: Score: 69.62 on minibatch of size 25 with parameters ['Predictor 0: Instruction 10', 'Predictor 0: Few-Shot Set 7'].\n",
      "2024/12/31 00:57:15 INFO dspy.teleprompt.mipro_optimizer_v2: Minibatch scores so far: [66.83, 69.62]\n",
      "2024/12/31 00:57:15 INFO dspy.teleprompt.mipro_optimizer_v2: Full eval scores so far: [62.0]\n",
      "2024/12/31 00:57:15 INFO dspy.teleprompt.mipro_optimizer_v2: Best full score so far: 62.0\n",
      "2024/12/31 00:57:15 INFO dspy.teleprompt.mipro_optimizer_v2: ============================\n",
      "\n",
      "\n",
      "2024/12/31 00:57:15 INFO dspy.teleprompt.mipro_optimizer_v2: == Minibatch Trial 3 / 25 ==\n"
     ]
    },
    {
     "name": "stdout",
     "output_type": "stream",
     "text": [
      "\n",
      "Average Metric: 16.19 / 25 (64.8%): 100%|██████████| 25/25 [02:32<00:00,  6.10s/it]"
     ]
    },
    {
     "name": "stderr",
     "output_type": "stream",
     "text": [
      "2024/12/31 00:59:48 INFO dspy.evaluate.evaluate: Average Metric: 16.191291019267613 / 25 (64.8%)\n",
      "2024/12/31 00:59:48 INFO dspy.teleprompt.mipro_optimizer_v2: Score: 64.77 on minibatch of size 25 with parameters ['Predictor 0: Instruction 7', 'Predictor 0: Few-Shot Set 18'].\n",
      "2024/12/31 00:59:48 INFO dspy.teleprompt.mipro_optimizer_v2: Minibatch scores so far: [66.83, 69.62, 64.77]\n",
      "2024/12/31 00:59:48 INFO dspy.teleprompt.mipro_optimizer_v2: Full eval scores so far: [62.0]\n",
      "2024/12/31 00:59:48 INFO dspy.teleprompt.mipro_optimizer_v2: Best full score so far: 62.0\n",
      "2024/12/31 00:59:48 INFO dspy.teleprompt.mipro_optimizer_v2: ============================\n",
      "\n",
      "\n",
      "2024/12/31 00:59:48 INFO dspy.teleprompt.mipro_optimizer_v2: == Minibatch Trial 4 / 25 ==\n"
     ]
    },
    {
     "name": "stdout",
     "output_type": "stream",
     "text": [
      "\n",
      "Average Metric: 16.60 / 25 (66.4%): 100%|██████████| 25/25 [02:45<00:00,  6.63s/it]"
     ]
    },
    {
     "name": "stderr",
     "output_type": "stream",
     "text": [
      "2024/12/31 01:02:34 INFO dspy.evaluate.evaluate: Average Metric: 16.596550198082998 / 25 (66.4%)\n",
      "2024/12/31 01:02:34 INFO dspy.teleprompt.mipro_optimizer_v2: Score: 66.39 on minibatch of size 25 with parameters ['Predictor 0: Instruction 15', 'Predictor 0: Few-Shot Set 2'].\n",
      "2024/12/31 01:02:34 INFO dspy.teleprompt.mipro_optimizer_v2: Minibatch scores so far: [66.83, 69.62, 64.77, 66.39]\n",
      "2024/12/31 01:02:34 INFO dspy.teleprompt.mipro_optimizer_v2: Full eval scores so far: [62.0]\n",
      "2024/12/31 01:02:34 INFO dspy.teleprompt.mipro_optimizer_v2: Best full score so far: 62.0\n",
      "2024/12/31 01:02:34 INFO dspy.teleprompt.mipro_optimizer_v2: ============================\n",
      "\n",
      "\n",
      "2024/12/31 01:02:34 INFO dspy.teleprompt.mipro_optimizer_v2: == Minibatch Trial 5 / 25 ==\n"
     ]
    },
    {
     "name": "stdout",
     "output_type": "stream",
     "text": [
      "\n",
      "Average Metric: 15.88 / 25 (63.5%): 100%|██████████| 25/25 [02:39<00:00,  6.39s/it]"
     ]
    },
    {
     "name": "stderr",
     "output_type": "stream",
     "text": [
      "2024/12/31 01:05:13 INFO dspy.evaluate.evaluate: Average Metric: 15.884051941541601 / 25 (63.5%)\n",
      "2024/12/31 01:05:13 INFO dspy.teleprompt.mipro_optimizer_v2: Score: 63.54 on minibatch of size 25 with parameters ['Predictor 0: Instruction 8', 'Predictor 0: Few-Shot Set 18'].\n",
      "2024/12/31 01:05:13 INFO dspy.teleprompt.mipro_optimizer_v2: Minibatch scores so far: [66.83, 69.62, 64.77, 66.39, 63.54]\n",
      "2024/12/31 01:05:13 INFO dspy.teleprompt.mipro_optimizer_v2: Full eval scores so far: [62.0]\n",
      "2024/12/31 01:05:13 INFO dspy.teleprompt.mipro_optimizer_v2: Best full score so far: 62.0\n",
      "2024/12/31 01:05:13 INFO dspy.teleprompt.mipro_optimizer_v2: ============================\n",
      "\n",
      "\n",
      "2024/12/31 01:05:13 INFO dspy.teleprompt.mipro_optimizer_v2: == Minibatch Trial 6 / 25 ==\n"
     ]
    },
    {
     "name": "stdout",
     "output_type": "stream",
     "text": [
      "\n",
      "Average Metric: 15.83 / 25 (63.3%): 100%|██████████| 25/25 [02:15<00:00,  5.41s/it]"
     ]
    },
    {
     "name": "stderr",
     "output_type": "stream",
     "text": [
      "2024/12/31 01:07:29 INFO dspy.evaluate.evaluate: Average Metric: 15.82948051948052 / 25 (63.3%)\n",
      "2024/12/31 01:07:29 INFO dspy.teleprompt.mipro_optimizer_v2: Score: 63.32 on minibatch of size 25 with parameters ['Predictor 0: Instruction 7', 'Predictor 0: Few-Shot Set 1'].\n",
      "2024/12/31 01:07:29 INFO dspy.teleprompt.mipro_optimizer_v2: Minibatch scores so far: [66.83, 69.62, 64.77, 66.39, 63.54, 63.32]\n",
      "2024/12/31 01:07:29 INFO dspy.teleprompt.mipro_optimizer_v2: Full eval scores so far: [62.0]\n",
      "2024/12/31 01:07:29 INFO dspy.teleprompt.mipro_optimizer_v2: Best full score so far: 62.0\n",
      "2024/12/31 01:07:29 INFO dspy.teleprompt.mipro_optimizer_v2: ============================\n",
      "\n",
      "\n",
      "2024/12/31 01:07:29 INFO dspy.teleprompt.mipro_optimizer_v2: == Minibatch Trial 7 / 25 ==\n"
     ]
    },
    {
     "name": "stdout",
     "output_type": "stream",
     "text": [
      "\n",
      "Average Metric: 15.62 / 25 (62.5%): 100%|██████████| 25/25 [02:48<00:00,  6.76s/it]"
     ]
    },
    {
     "name": "stderr",
     "output_type": "stream",
     "text": [
      "2024/12/31 01:10:18 INFO dspy.evaluate.evaluate: Average Metric: 15.623030303030303 / 25 (62.5%)\n",
      "2024/12/31 01:10:18 INFO dspy.teleprompt.mipro_optimizer_v2: Score: 62.49 on minibatch of size 25 with parameters ['Predictor 0: Instruction 7', 'Predictor 0: Few-Shot Set 12'].\n",
      "2024/12/31 01:10:18 INFO dspy.teleprompt.mipro_optimizer_v2: Minibatch scores so far: [66.83, 69.62, 64.77, 66.39, 63.54, 63.32, 62.49]\n",
      "2024/12/31 01:10:18 INFO dspy.teleprompt.mipro_optimizer_v2: Full eval scores so far: [62.0]\n",
      "2024/12/31 01:10:18 INFO dspy.teleprompt.mipro_optimizer_v2: Best full score so far: 62.0\n",
      "2024/12/31 01:10:18 INFO dspy.teleprompt.mipro_optimizer_v2: ============================\n",
      "\n",
      "\n",
      "2024/12/31 01:10:18 INFO dspy.teleprompt.mipro_optimizer_v2: == Minibatch Trial 8 / 25 ==\n"
     ]
    },
    {
     "name": "stdout",
     "output_type": "stream",
     "text": [
      "\n",
      "Average Metric: 17.33 / 25 (69.3%): 100%|██████████| 25/25 [02:57<00:00,  7.11s/it]"
     ]
    },
    {
     "name": "stderr",
     "output_type": "stream",
     "text": [
      "2024/12/31 01:13:15 INFO dspy.evaluate.evaluate: Average Metric: 17.334413145539905 / 25 (69.3%)\n",
      "2024/12/31 01:13:15 INFO dspy.teleprompt.mipro_optimizer_v2: Score: 69.34 on minibatch of size 25 with parameters ['Predictor 0: Instruction 11', 'Predictor 0: Few-Shot Set 13'].\n",
      "2024/12/31 01:13:15 INFO dspy.teleprompt.mipro_optimizer_v2: Minibatch scores so far: [66.83, 69.62, 64.77, 66.39, 63.54, 63.32, 62.49, 69.34]\n",
      "2024/12/31 01:13:15 INFO dspy.teleprompt.mipro_optimizer_v2: Full eval scores so far: [62.0]\n",
      "2024/12/31 01:13:15 INFO dspy.teleprompt.mipro_optimizer_v2: Best full score so far: 62.0\n",
      "2024/12/31 01:13:15 INFO dspy.teleprompt.mipro_optimizer_v2: ============================\n",
      "\n",
      "\n",
      "2024/12/31 01:13:15 INFO dspy.teleprompt.mipro_optimizer_v2: == Minibatch Trial 9 / 25 ==\n"
     ]
    },
    {
     "name": "stdout",
     "output_type": "stream",
     "text": [
      "\n",
      "Average Metric: 14.80 / 25 (59.2%): 100%|██████████| 25/25 [03:34<00:00,  8.58s/it]"
     ]
    },
    {
     "name": "stderr",
     "output_type": "stream",
     "text": [
      "2024/12/31 01:16:50 INFO dspy.evaluate.evaluate: Average Metric: 14.79684695356553 / 25 (59.2%)\n",
      "2024/12/31 01:16:50 INFO dspy.teleprompt.mipro_optimizer_v2: Score: 59.19 on minibatch of size 25 with parameters ['Predictor 0: Instruction 5', 'Predictor 0: Few-Shot Set 4'].\n",
      "2024/12/31 01:16:50 INFO dspy.teleprompt.mipro_optimizer_v2: Minibatch scores so far: [66.83, 69.62, 64.77, 66.39, 63.54, 63.32, 62.49, 69.34, 59.19]\n",
      "2024/12/31 01:16:50 INFO dspy.teleprompt.mipro_optimizer_v2: Full eval scores so far: [62.0]\n",
      "2024/12/31 01:16:50 INFO dspy.teleprompt.mipro_optimizer_v2: Best full score so far: 62.0\n",
      "2024/12/31 01:16:50 INFO dspy.teleprompt.mipro_optimizer_v2: ============================\n",
      "\n",
      "\n",
      "2024/12/31 01:16:50 INFO dspy.teleprompt.mipro_optimizer_v2: == Minibatch Trial 10 / 25 ==\n"
     ]
    },
    {
     "name": "stdout",
     "output_type": "stream",
     "text": [
      "\n",
      "Average Metric: 15.11 / 25 (60.4%): 100%|██████████| 25/25 [02:42<00:00,  6.52s/it]"
     ]
    },
    {
     "name": "stderr",
     "output_type": "stream",
     "text": [
      "2024/12/31 01:19:33 INFO dspy.evaluate.evaluate: Average Metric: 15.111731441279254 / 25 (60.4%)\n",
      "2024/12/31 01:19:33 INFO dspy.teleprompt.mipro_optimizer_v2: Score: 60.45 on minibatch of size 25 with parameters ['Predictor 0: Instruction 14', 'Predictor 0: Few-Shot Set 1'].\n",
      "2024/12/31 01:19:33 INFO dspy.teleprompt.mipro_optimizer_v2: Minibatch scores so far: [66.83, 69.62, 64.77, 66.39, 63.54, 63.32, 62.49, 69.34, 59.19, 60.45]\n",
      "2024/12/31 01:19:33 INFO dspy.teleprompt.mipro_optimizer_v2: Full eval scores so far: [62.0]\n",
      "2024/12/31 01:19:33 INFO dspy.teleprompt.mipro_optimizer_v2: Best full score so far: 62.0\n",
      "2024/12/31 01:19:33 INFO dspy.teleprompt.mipro_optimizer_v2: =============================\n",
      "\n",
      "\n",
      "2024/12/31 01:19:33 INFO dspy.teleprompt.mipro_optimizer_v2: ===== Full Eval 1 =====\n",
      "2024/12/31 01:19:33 INFO dspy.teleprompt.mipro_optimizer_v2: Doing full eval on next top averaging program (Avg Score: 69.62) from minibatch trials...\n"
     ]
    },
    {
     "name": "stdout",
     "output_type": "stream",
     "text": [
      "\n",
      "Average Metric: 24.57 / 39 (63.0%):  24%|██▍       | 38/160 [03:29<10:28,  5.15s/it]"
     ]
    },
    {
     "name": "stderr",
     "output_type": "stream",
     "text": [
      "2024/12/31 01:23:08 ERROR dspy.utils.parallelizer: Error processing item Example({'question': 'what are some undocumented iphone features?', 'response': \"When you're using the iPod app and a new song starts playing, your iPhone's screen will light up briefly to display the track details, assuming the iPhone isn't in your pocket.  \\nIf you double-click the home button while running iOS4, a customized task bar will appear, showing recent and currently running multi-tasked apps, as well as iPod controls.  \\nBy pressing both the home button and the power button, your screen's contents will be captured and saved to your Photo Albums.  \\nShould you wish to quickly scroll back to the top of any app, simply tapping the status bar will do the trick.  \\nFor efficient typing on the iPhone's keyboard, you can hold the '123' button and slide to any number or punctuation, then lift your finger to return to the alphabetic layout.  The iPhone hides a Field Test mode, accessed by dialing *3001#12345#* that provides detailed information about cellular towers, signal strength, and network data, and the IMEI number can be displayed with *#06# without making a call.  \\nHolding a link in Safari allows you to open it in a new tab.  \\nHolding down certain keys on the keyboard will give you additional character options like an em dash or accented letters.  \\nIn the Mail app, you can quote a specific part of a message by selecting it before hitting the reply button.  \\nThe Maps app offers alternatives to pinching for zooming, such as double tapping to zoom in or tapping with two fingers to zoom out.  \\nYou can also adjust the scrubbing speed of a song in the iPod app by dragging down from the scrubbing slider, and double pressing the Home button toggles between the apps page and the Search page.  \\nShaking the iPhone while editing text will give you the option to undo or redo the action.  \\nAt the top of the contacts list in the Phone app, you'll find your own phone number.  \\nEnable Caps Lock in the keyboard settings to have the double-tap shift key hold for uppercase letters.  Various symbols and characters can be accessed by holding down specific keys on the keyboard.  \\nAccess iPod controls while the iPhone is locked by double-pressing the Home button.  \\nSurpassing the 11-screen app limit is possible; apps beyond this will not show but can be launched via search.  \\nDouble-tapping the shift can also enable caps lock.  \\nDeleting individual text messages is possible by clicking the Edit button in the Messages app.  \\nDouble tapping the space bar at the end of a sentence automatically adds a period.  \\nVideo podcasts' audio can be played even when the phone is locked, by pressing play on the iPod controls accessed with a double Home button press.  \\nA two-finger tap zooms out on Google Maps.  \\nAudio streams in Safari can play in the background after navigating away from the app.  \\nWhile typing, holding the Shift key and another letter key will capitalize the latter.  \\nThe headphone's remote can be used to start or stop video recording on 3GS iPhones and newer.  \\nIn Maps, accessing street view cans be done by tapping an orange figure icon after dropping a pin.  \\nVoiceControl not only places calls but allows specifying the number type like 'home' or 'mobile'.  \\nMobile Safari lets you scroll through iframes and divs using two fingers whereas one finger will scroll the main page.  \\nThe headphone remote has controls for playing music, skipping to the next or previous song.  \\nShake the iPhone while a song is playing and the iPod controls are displayed to skip to the next song. \\nTapping, not swiping, is all that's needed to switch a button's state.  \\nIn the Messages app, hiding the keyboard is as simple as pulling it down.  \\nAn emoticon-filled keyboard can be added by choosing the 'emoji' keyboard.  \\nAccessing draft emails quickly is possible by holding the new email button.  \\nRequesting a desktop version of a mobile website in Safari can be done by holding the reload button.\", 'gold_doc_ids': [176, 293, 294, 295, 297, 298, 299, 300, 301, 302, 303, 305, 306, 307, 308, 309, 311, 312, 313, 314, 315, 316, 317, 318, 319, 474, 576, 577, 939, 942, 2213, 3460, 1340, 4722, 1975]}) (input_keys={'question'}): Expected dict_keys(['reasoning', 'ground_truth_key_ideas', 'system_response_key_ideas', 'discussion', 'recall', 'precision']) but got dict_keys(['reasoning', 'ground_truth_key_ideas', 'system_response_key_ideas', 'discussion', 'recall']). Set `provide_traceback=True` to see the stack trace.\n"
     ]
    },
    {
     "name": "stdout",
     "output_type": "stream",
     "text": [
      "Average Metric: 100.70 / 159 (63.3%): 100%|██████████| 160/160 [14:53<00:00,  5.58s/it]"
     ]
    },
    {
     "name": "stderr",
     "output_type": "stream",
     "text": [
      "2024/12/31 01:34:26 INFO dspy.evaluate.evaluate: Average Metric: 100.69839476237539 / 160 (62.9%)\n",
      "2024/12/31 01:34:26 INFO dspy.teleprompt.mipro_optimizer_v2: \u001b[92mNew best full eval score!\u001b[0m Score: 62.94\n",
      "2024/12/31 01:34:26 INFO dspy.teleprompt.mipro_optimizer_v2: Full eval scores so far: [62.0, 62.94]\n",
      "2024/12/31 01:34:26 INFO dspy.teleprompt.mipro_optimizer_v2: Best full score so far: 62.94\n",
      "2024/12/31 01:34:26 INFO dspy.teleprompt.mipro_optimizer_v2: =======================\n",
      "2024/12/31 01:34:26 INFO dspy.teleprompt.mipro_optimizer_v2: \n",
      "\n",
      "2024/12/31 01:34:26 INFO dspy.teleprompt.mipro_optimizer_v2: == Minibatch Trial 11 / 25 ==\n"
     ]
    },
    {
     "name": "stdout",
     "output_type": "stream",
     "text": [
      "\n",
      "Average Metric: 12.60 / 25 (50.4%): 100%|██████████| 25/25 [02:48<00:00,  6.73s/it]"
     ]
    },
    {
     "name": "stderr",
     "output_type": "stream",
     "text": [
      "2024/12/31 01:37:14 INFO dspy.evaluate.evaluate: Average Metric: 12.603809523809524 / 25 (50.4%)\n",
      "2024/12/31 01:37:14 INFO dspy.teleprompt.mipro_optimizer_v2: Score: 50.42 on minibatch of size 25 with parameters ['Predictor 0: Instruction 17', 'Predictor 0: Few-Shot Set 17'].\n",
      "2024/12/31 01:37:14 INFO dspy.teleprompt.mipro_optimizer_v2: Minibatch scores so far: [66.83, 69.62, 64.77, 66.39, 63.54, 63.32, 62.49, 69.34, 59.19, 60.45, 50.42]\n",
      "2024/12/31 01:37:14 INFO dspy.teleprompt.mipro_optimizer_v2: Full eval scores so far: [62.0, 62.94]\n",
      "2024/12/31 01:37:14 INFO dspy.teleprompt.mipro_optimizer_v2: Best full score so far: 62.94\n",
      "2024/12/31 01:37:14 INFO dspy.teleprompt.mipro_optimizer_v2: =============================\n",
      "\n",
      "\n",
      "2024/12/31 01:37:14 INFO dspy.teleprompt.mipro_optimizer_v2: == Minibatch Trial 12 / 25 ==\n"
     ]
    },
    {
     "name": "stdout",
     "output_type": "stream",
     "text": [
      "\n",
      "Average Metric: 16.41 / 25 (65.6%): 100%|██████████| 25/25 [02:33<00:00,  6.13s/it]"
     ]
    },
    {
     "name": "stderr",
     "output_type": "stream",
     "text": [
      "2024/12/31 01:39:48 INFO dspy.evaluate.evaluate: Average Metric: 16.411973311403 / 25 (65.6%)\n",
      "2024/12/31 01:39:48 INFO dspy.teleprompt.mipro_optimizer_v2: Score: 65.65 on minibatch of size 25 with parameters ['Predictor 0: Instruction 11', 'Predictor 0: Few-Shot Set 16'].\n",
      "2024/12/31 01:39:48 INFO dspy.teleprompt.mipro_optimizer_v2: Minibatch scores so far: [66.83, 69.62, 64.77, 66.39, 63.54, 63.32, 62.49, 69.34, 59.19, 60.45, 50.42, 65.65]\n",
      "2024/12/31 01:39:48 INFO dspy.teleprompt.mipro_optimizer_v2: Full eval scores so far: [62.0, 62.94]\n",
      "2024/12/31 01:39:48 INFO dspy.teleprompt.mipro_optimizer_v2: Best full score so far: 62.94\n",
      "2024/12/31 01:39:48 INFO dspy.teleprompt.mipro_optimizer_v2: =============================\n",
      "\n",
      "\n",
      "2024/12/31 01:39:48 INFO dspy.teleprompt.mipro_optimizer_v2: == Minibatch Trial 13 / 25 ==\n"
     ]
    },
    {
     "name": "stdout",
     "output_type": "stream",
     "text": [
      "\n",
      "Average Metric: 15.08 / 25 (60.3%): 100%|██████████| 25/25 [02:35<00:00,  6.20s/it]"
     ]
    },
    {
     "name": "stderr",
     "output_type": "stream",
     "text": [
      "2024/12/31 01:42:23 INFO dspy.evaluate.evaluate: Average Metric: 15.080806338589792 / 25 (60.3%)\n",
      "2024/12/31 01:42:23 INFO dspy.teleprompt.mipro_optimizer_v2: Score: 60.32 on minibatch of size 25 with parameters ['Predictor 0: Instruction 4', 'Predictor 0: Few-Shot Set 13'].\n",
      "2024/12/31 01:42:23 INFO dspy.teleprompt.mipro_optimizer_v2: Minibatch scores so far: [66.83, 69.62, 64.77, 66.39, 63.54, 63.32, 62.49, 69.34, 59.19, 60.45, 50.42, 65.65, 60.32]\n",
      "2024/12/31 01:42:23 INFO dspy.teleprompt.mipro_optimizer_v2: Full eval scores so far: [62.0, 62.94]\n",
      "2024/12/31 01:42:23 INFO dspy.teleprompt.mipro_optimizer_v2: Best full score so far: 62.94\n",
      "2024/12/31 01:42:23 INFO dspy.teleprompt.mipro_optimizer_v2: =============================\n",
      "\n",
      "\n",
      "2024/12/31 01:42:23 INFO dspy.teleprompt.mipro_optimizer_v2: == Minibatch Trial 14 / 25 ==\n"
     ]
    },
    {
     "name": "stdout",
     "output_type": "stream",
     "text": [
      "\n",
      "Average Metric: 16.31 / 25 (65.2%): 100%|██████████| 25/25 [02:09<00:00,  5.18s/it]"
     ]
    },
    {
     "name": "stderr",
     "output_type": "stream",
     "text": [
      "2024/12/31 01:44:32 INFO dspy.evaluate.evaluate: Average Metric: 16.30507730594091 / 25 (65.2%)\n",
      "2024/12/31 01:44:32 INFO dspy.teleprompt.mipro_optimizer_v2: Score: 65.22 on minibatch of size 25 with parameters ['Predictor 0: Instruction 11', 'Predictor 0: Few-Shot Set 13'].\n",
      "2024/12/31 01:44:32 INFO dspy.teleprompt.mipro_optimizer_v2: Minibatch scores so far: [66.83, 69.62, 64.77, 66.39, 63.54, 63.32, 62.49, 69.34, 59.19, 60.45, 50.42, 65.65, 60.32, 65.22]\n",
      "2024/12/31 01:44:32 INFO dspy.teleprompt.mipro_optimizer_v2: Full eval scores so far: [62.0, 62.94]\n",
      "2024/12/31 01:44:32 INFO dspy.teleprompt.mipro_optimizer_v2: Best full score so far: 62.94\n",
      "2024/12/31 01:44:32 INFO dspy.teleprompt.mipro_optimizer_v2: =============================\n",
      "\n",
      "\n",
      "2024/12/31 01:44:32 INFO dspy.teleprompt.mipro_optimizer_v2: == Minibatch Trial 15 / 25 ==\n"
     ]
    },
    {
     "name": "stdout",
     "output_type": "stream",
     "text": [
      "\n",
      "Average Metric: 14.79 / 25 (59.2%): 100%|██████████| 25/25 [02:57<00:00,  7.08s/it]"
     ]
    },
    {
     "name": "stderr",
     "output_type": "stream",
     "text": [
      "2024/12/31 01:47:29 INFO dspy.evaluate.evaluate: Average Metric: 14.79294413919414 / 25 (59.2%)\n",
      "2024/12/31 01:47:29 INFO dspy.teleprompt.mipro_optimizer_v2: Score: 59.17 on minibatch of size 25 with parameters ['Predictor 0: Instruction 10', 'Predictor 0: Few-Shot Set 12'].\n",
      "2024/12/31 01:47:29 INFO dspy.teleprompt.mipro_optimizer_v2: Minibatch scores so far: [66.83, 69.62, 64.77, 66.39, 63.54, 63.32, 62.49, 69.34, 59.19, 60.45, 50.42, 65.65, 60.32, 65.22, 59.17]\n",
      "2024/12/31 01:47:29 INFO dspy.teleprompt.mipro_optimizer_v2: Full eval scores so far: [62.0, 62.94]\n",
      "2024/12/31 01:47:29 INFO dspy.teleprompt.mipro_optimizer_v2: Best full score so far: 62.94\n",
      "2024/12/31 01:47:29 INFO dspy.teleprompt.mipro_optimizer_v2: =============================\n",
      "\n",
      "\n",
      "2024/12/31 01:47:29 INFO dspy.teleprompt.mipro_optimizer_v2: == Minibatch Trial 16 / 25 ==\n"
     ]
    },
    {
     "name": "stdout",
     "output_type": "stream",
     "text": [
      "\n",
      "Average Metric: 15.18 / 25 (60.7%): 100%|██████████| 25/25 [00:00<00:00, 75.24it/s]"
     ]
    },
    {
     "name": "stderr",
     "output_type": "stream",
     "text": [
      "2024/12/31 01:47:30 INFO dspy.evaluate.evaluate: Average Metric: 15.177870763191072 / 25 (60.7%)\n",
      "2024/12/31 01:47:30 INFO dspy.teleprompt.mipro_optimizer_v2: Score: 60.71 on minibatch of size 25 with parameters ['Predictor 0: Instruction 10', 'Predictor 0: Few-Shot Set 7'].\n",
      "2024/12/31 01:47:30 INFO dspy.teleprompt.mipro_optimizer_v2: Minibatch scores so far: [66.83, 69.62, 64.77, 66.39, 63.54, 63.32, 62.49, 69.34, 59.19, 60.45, 50.42, 65.65, 60.32, 65.22, 59.17, 60.71]\n",
      "2024/12/31 01:47:30 INFO dspy.teleprompt.mipro_optimizer_v2: Full eval scores so far: [62.0, 62.94]\n",
      "2024/12/31 01:47:30 INFO dspy.teleprompt.mipro_optimizer_v2: Best full score so far: 62.94\n",
      "2024/12/31 01:47:30 INFO dspy.teleprompt.mipro_optimizer_v2: =============================\n",
      "\n",
      "\n",
      "2024/12/31 01:47:30 INFO dspy.teleprompt.mipro_optimizer_v2: == Minibatch Trial 17 / 25 ==\n"
     ]
    },
    {
     "name": "stdout",
     "output_type": "stream",
     "text": [
      "\n",
      "Average Metric: 13.12 / 21 (62.5%):  84%|████████▍ | 21/25 [02:25<00:32,  8.04s/it]"
     ]
    },
    {
     "name": "stderr",
     "output_type": "stream",
     "text": [
      "2024/12/31 01:50:01 ERROR dspy.utils.parallelizer: Error processing item Example({'question': 'what tiny thing in lion makes you smile or has caught you off guard?', 'response': 'The features people like are: merging folders in Finder; QuickTime M4A recordings; the offer to add a Gmail account if logging in on Safari for the first time; the redesigned lock screen; Autocorrect; Multi-touch swiping of page history in Safari; tmutil command line into Time Machine; Quicklook natively supports animated GIFs and previews URL content directly from Mail/iChat; Mail.app is full of smiles and animations, and you can preview webpage links (a button opens a window); unsupported hardware notices; new services for opening a New Terminal Window/Tab at Folder; you can move items in the finder by using ⌘-C to copy and ⌥-⌘-V to move; more international localizations for system Text to Speech; native support for Microsoft DFS; disconnecting an iPhone doesn\\'t wake display; wireless Internet Sharing supports 5Ghz channels; show a message when the screen is locked; use keyboard to control Slideshow Screensaver (space bar or arrows to pause or navigate between pictures); no scrollbars; Quicklook works from the iTunes \"Album Artwork\" screensaver (play music by clicking on the albums); Terminal is more keyboard accessible; you can trash things in a queue whilst trash is emptying; yearless birthdays (Addressbook lets you add just month and day); hide or filter System Preferences (customise to slim down the main icon view);  improved app switcher (⌘TAB doesn\\'t loop like crazy if you leave those keys pressed); Multitouch page turning in iCal (move between months with a 2-finger drag); use Mission Control to easily drag and drop apps from one Space to another; put a text or rich-text file in /Library/Security; Quick Look to Track Shipments from within Mail.app; Trackpad scrolling in Stickies window; Photo Booth now has an option to disable screen flash;  emails are now sorted by default by date in descending order; Mission Control supports unique backgrounds per space; Finder gives better feedback when Trash has an error; Calculate all sizes in Finder is very fast; Finder menu for video encoding / conversion to create different resolutions and sizes; Launchpad Background Wallpaper Effects; use a date in Mail.app to make a quick iCal event; removed Auto-Column Resizing; In Launchpad, holding down Option makes your icons dance or \"jiggle\"; Wi-Fi Diagnostics; Motion Blur in Mission Control; create user names containing dots; Terminal.app now supports 256 colors; Mail now displays custom header;  in Mission Control, you can invoke Quicklook; Authentication dialogs shake when you enter your password incorrectly; QuickLook now shows the pages of a PDF in scrollable sidebar; and Safari being two processes.  \\nHowever, one user jokingly thinks Lion is a pile of poo.', 'gold_doc_ids': [2264, 2268, 2309, 2347, 2348, 2355, 2405, 2413, 2421, 2538, 2540, 2544, 2545, 2549, 2555, 2558, 2560, 2561, 2562, 2575, 2576, 2579, 2580, 2582, 2587, 2588, 2590, 2592, 2597, 2598, 2600, 2613, 2630, 2643, 2679, 2698, 2743, 2749, 2760, 2787, 2789, 2975, 3015, 3034, 3409, 3570, 3630, 4207, 5478, 5481, 5647, 6042, 6804, 72]}) (input_keys={'question'}): 1 validation error for float\n",
      "  Input should be a valid number, unable to parse string as a number [type=float_parsing, input_value='1/7 = 0.14285714285714285', input_type=str]\n",
      "    For further information visit https://errors.pydantic.dev/2.9/v/float_parsing. Set `provide_traceback=True` to see the stack trace.\n"
     ]
    },
    {
     "name": "stdout",
     "output_type": "stream",
     "text": [
      "Average Metric: 15.53 / 24 (64.7%): 100%|██████████| 25/25 [02:45<00:00,  6.64s/it]"
     ]
    },
    {
     "name": "stderr",
     "output_type": "stream",
     "text": [
      "2024/12/31 01:50:16 INFO dspy.evaluate.evaluate: Average Metric: 15.532663046426318 / 25 (62.1%)\n",
      "2024/12/31 01:50:16 INFO dspy.teleprompt.mipro_optimizer_v2: Score: 62.13 on minibatch of size 25 with parameters ['Predictor 0: Instruction 13', 'Predictor 0: Few-Shot Set 10'].\n",
      "2024/12/31 01:50:16 INFO dspy.teleprompt.mipro_optimizer_v2: Minibatch scores so far: [66.83, 69.62, 64.77, 66.39, 63.54, 63.32, 62.49, 69.34, 59.19, 60.45, 50.42, 65.65, 60.32, 65.22, 59.17, 60.71, 62.13]\n",
      "2024/12/31 01:50:16 INFO dspy.teleprompt.mipro_optimizer_v2: Full eval scores so far: [62.0, 62.94]\n",
      "2024/12/31 01:50:16 INFO dspy.teleprompt.mipro_optimizer_v2: Best full score so far: 62.94\n",
      "2024/12/31 01:50:16 INFO dspy.teleprompt.mipro_optimizer_v2: =============================\n",
      "\n",
      "\n",
      "2024/12/31 01:50:16 INFO dspy.teleprompt.mipro_optimizer_v2: == Minibatch Trial 18 / 25 ==\n"
     ]
    },
    {
     "name": "stdout",
     "output_type": "stream",
     "text": [
      "\n",
      "Average Metric: 17.20 / 25 (68.8%): 100%|██████████| 25/25 [02:34<00:00,  6.18s/it]"
     ]
    },
    {
     "name": "stderr",
     "output_type": "stream",
     "text": [
      "2024/12/31 01:52:50 INFO dspy.evaluate.evaluate: Average Metric: 17.203314137021543 / 25 (68.8%)\n",
      "2024/12/31 01:52:50 INFO dspy.teleprompt.mipro_optimizer_v2: Score: 68.81 on minibatch of size 25 with parameters ['Predictor 0: Instruction 1', 'Predictor 0: Few-Shot Set 6'].\n",
      "2024/12/31 01:52:50 INFO dspy.teleprompt.mipro_optimizer_v2: Minibatch scores so far: [66.83, 69.62, 64.77, 66.39, 63.54, 63.32, 62.49, 69.34, 59.19, 60.45, 50.42, 65.65, 60.32, 65.22, 59.17, 60.71, 62.13, 68.81]\n",
      "2024/12/31 01:52:50 INFO dspy.teleprompt.mipro_optimizer_v2: Full eval scores so far: [62.0, 62.94]\n",
      "2024/12/31 01:52:50 INFO dspy.teleprompt.mipro_optimizer_v2: Best full score so far: 62.94\n",
      "2024/12/31 01:52:50 INFO dspy.teleprompt.mipro_optimizer_v2: =============================\n",
      "\n",
      "\n",
      "2024/12/31 01:52:50 INFO dspy.teleprompt.mipro_optimizer_v2: == Minibatch Trial 19 / 25 ==\n"
     ]
    },
    {
     "name": "stdout",
     "output_type": "stream",
     "text": [
      "\n",
      "Average Metric: 15.84 / 25 (63.3%): 100%|██████████| 25/25 [02:31<00:00,  6.07s/it]"
     ]
    },
    {
     "name": "stderr",
     "output_type": "stream",
     "text": [
      "2024/12/31 01:55:22 INFO dspy.evaluate.evaluate: Average Metric: 15.83514146226184 / 25 (63.3%)\n",
      "2024/12/31 01:55:22 INFO dspy.teleprompt.mipro_optimizer_v2: Score: 63.34 on minibatch of size 25 with parameters ['Predictor 0: Instruction 18', 'Predictor 0: Few-Shot Set 3'].\n",
      "2024/12/31 01:55:22 INFO dspy.teleprompt.mipro_optimizer_v2: Minibatch scores so far: [66.83, 69.62, 64.77, 66.39, 63.54, 63.32, 62.49, 69.34, 59.19, 60.45, 50.42, 65.65, 60.32, 65.22, 59.17, 60.71, 62.13, 68.81, 63.34]\n",
      "2024/12/31 01:55:22 INFO dspy.teleprompt.mipro_optimizer_v2: Full eval scores so far: [62.0, 62.94]\n",
      "2024/12/31 01:55:22 INFO dspy.teleprompt.mipro_optimizer_v2: Best full score so far: 62.94\n",
      "2024/12/31 01:55:22 INFO dspy.teleprompt.mipro_optimizer_v2: =============================\n",
      "\n",
      "\n",
      "2024/12/31 01:55:22 INFO dspy.teleprompt.mipro_optimizer_v2: == Minibatch Trial 20 / 25 ==\n"
     ]
    },
    {
     "name": "stdout",
     "output_type": "stream",
     "text": [
      "\n",
      "Average Metric: 17.17 / 25 (68.7%): 100%|██████████| 25/25 [02:46<00:00,  6.65s/it]"
     ]
    },
    {
     "name": "stderr",
     "output_type": "stream",
     "text": [
      "2024/12/31 01:58:08 INFO dspy.evaluate.evaluate: Average Metric: 17.167095610482708 / 25 (68.7%)\n",
      "2024/12/31 01:58:08 INFO dspy.teleprompt.mipro_optimizer_v2: Score: 68.67 on minibatch of size 25 with parameters ['Predictor 0: Instruction 2', 'Predictor 0: Few-Shot Set 7'].\n",
      "2024/12/31 01:58:08 INFO dspy.teleprompt.mipro_optimizer_v2: Minibatch scores so far: [66.83, 69.62, 64.77, 66.39, 63.54, 63.32, 62.49, 69.34, 59.19, 60.45, 50.42, 65.65, 60.32, 65.22, 59.17, 60.71, 62.13, 68.81, 63.34, 68.67]\n",
      "2024/12/31 01:58:08 INFO dspy.teleprompt.mipro_optimizer_v2: Full eval scores so far: [62.0, 62.94]\n",
      "2024/12/31 01:58:08 INFO dspy.teleprompt.mipro_optimizer_v2: Best full score so far: 62.94\n",
      "2024/12/31 01:58:08 INFO dspy.teleprompt.mipro_optimizer_v2: =============================\n",
      "\n",
      "\n",
      "2024/12/31 01:58:08 INFO dspy.teleprompt.mipro_optimizer_v2: ===== Full Eval 2 =====\n",
      "2024/12/31 01:58:08 INFO dspy.teleprompt.mipro_optimizer_v2: Doing full eval on next top averaging program (Avg Score: 68.81) from minibatch trials...\n"
     ]
    },
    {
     "name": "stdout",
     "output_type": "stream",
     "text": [
      "\n",
      "Average Metric: 103.93 / 159 (65.4%):  99%|█████████▉| 159/160 [15:32<00:05,  5.95s/it]"
     ]
    },
    {
     "name": "stderr",
     "output_type": "stream",
     "text": [
      "2024/12/31 02:13:47 ERROR dspy.utils.parallelizer: Error processing item Example({'question': 'how can i run a command which will survive terminal close?', 'response': 'To manage processes in a terminal, one can use commands like `$ nohup redshift &` or `$ redshift & disown` to prevent the process from terminating when the session ends, or when running kate & in Konsole: `nohup kate &` or screen/tmux/byobu, which will keep the shell running, independent of the terminal.  \\nAlternatively, if the process is already running, you can suspend it with `Ctrl-Z`, bring it to the background with `bg`, and then `disown` it: $` sleep 1000 ^Z + Stopped sleep 1000 $ bg $ disown $ exit.`  \\nAnother option is to initiate the process in a new session using `setsid process`.  \\nA script can help run commands in the background, manage their output, and ignore their exit status through `nohup`, redirecting output to `/dev/null`, and controlling the script\\'s timeout.  \\nThe shell-only way to do all this is to close stdin and background the command: `command <&- &` prevent the process from closing with the terminal.  \\n`Screen` is another robust tool for managing terminal sessions, allowing multiple sessions within one terminal window and the ability to detach and reattach sessions as needed (`screen -S session_name`). \\nTo protect a specific process from being terminated when logging out, you can use `nohup -p PID` to prevent it from receiving a HUP signal.  \\n`(applicationName &)` can ensure a smooth initiation of the background process.  \\nA predefined script can use `screen` to run long commands and allow them to continue running after the terminal is closed: `#!/bin/bash # if screen -ls | awk \\'$1 ~ /^[1-9][0-9]*\\\\.\\'\"$1\"\\'/\\' >/dev/null then echo \"WARNING: session is already running (reattach with \\'screen -r $1\\')\" >&2 else exec screen -S \"$1\" bash -c \"$@; echo; echo \\'--------------------\\'; read -p \\'ALL DONE (Enter to exit):\\'\" echo \"ERROR: \\'screen\\' is not installed on this system\" >&2 fi exit 1 `.  \\nLastly, `reptyr` can attach an already running process to a `screen` session, permitting terminal closure without affecting the process.', 'gold_doc_ids': [1991, 1992, 8247, 273, 6408, 6856, 4603, 2914, 3256, 3917, 754]}) (input_keys={'question'}): Expected dict_keys(['reasoning', 'ground_truth_key_ideas', 'system_response_key_ideas', 'discussion', 'recall', 'precision']) but got dict_keys(['reasoning', 'ground_truth_key_ideas', 'discussion', 'recall', 'precision']). Set `provide_traceback=True` to see the stack trace.\n"
     ]
    },
    {
     "name": "stdout",
     "output_type": "stream",
     "text": [
      "Average Metric: 103.93 / 159 (65.4%): 100%|██████████| 160/160 [15:38<00:00,  5.87s/it]"
     ]
    },
    {
     "name": "stderr",
     "output_type": "stream",
     "text": [
      "2024/12/31 02:13:47 INFO dspy.evaluate.evaluate: Average Metric: 103.92736338065342 / 160 (65.0%)\n",
      "2024/12/31 02:13:47 INFO dspy.teleprompt.mipro_optimizer_v2: \u001b[92mNew best full eval score!\u001b[0m Score: 64.95\n",
      "2024/12/31 02:13:47 INFO dspy.teleprompt.mipro_optimizer_v2: Full eval scores so far: [62.0, 62.94, 64.95]\n",
      "2024/12/31 02:13:47 INFO dspy.teleprompt.mipro_optimizer_v2: Best full score so far: 64.95\n",
      "2024/12/31 02:13:47 INFO dspy.teleprompt.mipro_optimizer_v2: =======================\n",
      "2024/12/31 02:13:47 INFO dspy.teleprompt.mipro_optimizer_v2: \n",
      "\n",
      "2024/12/31 02:13:47 INFO dspy.teleprompt.mipro_optimizer_v2: == Minibatch Trial 21 / 25 ==\n"
     ]
    },
    {
     "name": "stdout",
     "output_type": "stream",
     "text": [
      "\n",
      "Average Metric: 16.77 / 25 (67.1%): 100%|██████████| 25/25 [02:53<00:00,  6.93s/it]"
     ]
    },
    {
     "name": "stderr",
     "output_type": "stream",
     "text": [
      "2024/12/31 02:16:40 INFO dspy.evaluate.evaluate: Average Metric: 16.769554197128027 / 25 (67.1%)\n",
      "2024/12/31 02:16:40 INFO dspy.teleprompt.mipro_optimizer_v2: Score: 67.08 on minibatch of size 25 with parameters ['Predictor 0: Instruction 3', 'Predictor 0: Few-Shot Set 5'].\n",
      "2024/12/31 02:16:40 INFO dspy.teleprompt.mipro_optimizer_v2: Minibatch scores so far: [66.83, 69.62, 64.77, 66.39, 63.54, 63.32, 62.49, 69.34, 59.19, 60.45, 50.42, 65.65, 60.32, 65.22, 59.17, 60.71, 62.13, 68.81, 63.34, 68.67, 67.08]\n",
      "2024/12/31 02:16:40 INFO dspy.teleprompt.mipro_optimizer_v2: Full eval scores so far: [62.0, 62.94, 64.95]\n",
      "2024/12/31 02:16:40 INFO dspy.teleprompt.mipro_optimizer_v2: Best full score so far: 64.95\n",
      "2024/12/31 02:16:40 INFO dspy.teleprompt.mipro_optimizer_v2: =============================\n",
      "\n",
      "\n",
      "2024/12/31 02:16:40 INFO dspy.teleprompt.mipro_optimizer_v2: == Minibatch Trial 22 / 25 ==\n"
     ]
    },
    {
     "name": "stdout",
     "output_type": "stream",
     "text": [
      "\n",
      "Average Metric: 15.94 / 25 (63.8%): 100%|██████████| 25/25 [03:16<00:00,  7.86s/it]"
     ]
    },
    {
     "name": "stderr",
     "output_type": "stream",
     "text": [
      "2024/12/31 02:19:56 INFO dspy.evaluate.evaluate: Average Metric: 15.938728411876287 / 25 (63.8%)\n",
      "2024/12/31 02:19:56 INFO dspy.teleprompt.mipro_optimizer_v2: Score: 63.75 on minibatch of size 25 with parameters ['Predictor 0: Instruction 16', 'Predictor 0: Few-Shot Set 6'].\n",
      "2024/12/31 02:19:56 INFO dspy.teleprompt.mipro_optimizer_v2: Minibatch scores so far: [66.83, 69.62, 64.77, 66.39, 63.54, 63.32, 62.49, 69.34, 59.19, 60.45, 50.42, 65.65, 60.32, 65.22, 59.17, 60.71, 62.13, 68.81, 63.34, 68.67, 67.08, 63.75]\n",
      "2024/12/31 02:19:56 INFO dspy.teleprompt.mipro_optimizer_v2: Full eval scores so far: [62.0, 62.94, 64.95]\n",
      "2024/12/31 02:19:56 INFO dspy.teleprompt.mipro_optimizer_v2: Best full score so far: 64.95\n",
      "2024/12/31 02:19:56 INFO dspy.teleprompt.mipro_optimizer_v2: =============================\n",
      "\n",
      "\n",
      "2024/12/31 02:19:56 INFO dspy.teleprompt.mipro_optimizer_v2: == Minibatch Trial 23 / 25 ==\n"
     ]
    },
    {
     "name": "stdout",
     "output_type": "stream",
     "text": [
      "\n",
      "Average Metric: 16.37 / 25 (65.5%): 100%|██████████| 25/25 [02:53<00:00,  6.96s/it]"
     ]
    },
    {
     "name": "stderr",
     "output_type": "stream",
     "text": [
      "2024/12/31 02:22:50 INFO dspy.evaluate.evaluate: Average Metric: 16.374052701518433 / 25 (65.5%)\n",
      "2024/12/31 02:22:50 INFO dspy.teleprompt.mipro_optimizer_v2: Score: 65.5 on minibatch of size 25 with parameters ['Predictor 0: Instruction 1', 'Predictor 0: Few-Shot Set 16'].\n",
      "2024/12/31 02:22:50 INFO dspy.teleprompt.mipro_optimizer_v2: Minibatch scores so far: [66.83, 69.62, 64.77, 66.39, 63.54, 63.32, 62.49, 69.34, 59.19, 60.45, 50.42, 65.65, 60.32, 65.22, 59.17, 60.71, 62.13, 68.81, 63.34, 68.67, 67.08, 63.75, 65.5]\n",
      "2024/12/31 02:22:50 INFO dspy.teleprompt.mipro_optimizer_v2: Full eval scores so far: [62.0, 62.94, 64.95]\n",
      "2024/12/31 02:22:50 INFO dspy.teleprompt.mipro_optimizer_v2: Best full score so far: 64.95\n",
      "2024/12/31 02:22:50 INFO dspy.teleprompt.mipro_optimizer_v2: =============================\n",
      "\n",
      "\n",
      "2024/12/31 02:22:50 INFO dspy.teleprompt.mipro_optimizer_v2: == Minibatch Trial 24 / 25 ==\n"
     ]
    },
    {
     "name": "stdout",
     "output_type": "stream",
     "text": [
      "\n",
      "Average Metric: 15.70 / 25 (62.8%): 100%|██████████| 25/25 [02:21<00:00,  5.68s/it]"
     ]
    },
    {
     "name": "stderr",
     "output_type": "stream",
     "text": [
      "2024/12/31 02:25:12 INFO dspy.evaluate.evaluate: Average Metric: 15.697818740399384 / 25 (62.8%)\n",
      "2024/12/31 02:25:12 INFO dspy.teleprompt.mipro_optimizer_v2: Score: 62.79 on minibatch of size 25 with parameters ['Predictor 0: Instruction 1', 'Predictor 0: Few-Shot Set 0'].\n",
      "2024/12/31 02:25:12 INFO dspy.teleprompt.mipro_optimizer_v2: Minibatch scores so far: [66.83, 69.62, 64.77, 66.39, 63.54, 63.32, 62.49, 69.34, 59.19, 60.45, 50.42, 65.65, 60.32, 65.22, 59.17, 60.71, 62.13, 68.81, 63.34, 68.67, 67.08, 63.75, 65.5, 62.79]\n",
      "2024/12/31 02:25:12 INFO dspy.teleprompt.mipro_optimizer_v2: Full eval scores so far: [62.0, 62.94, 64.95]\n",
      "2024/12/31 02:25:12 INFO dspy.teleprompt.mipro_optimizer_v2: Best full score so far: 64.95\n",
      "2024/12/31 02:25:12 INFO dspy.teleprompt.mipro_optimizer_v2: =============================\n",
      "\n",
      "\n",
      "2024/12/31 02:25:12 INFO dspy.teleprompt.mipro_optimizer_v2: == Minibatch Trial 25 / 25 ==\n"
     ]
    },
    {
     "name": "stdout",
     "output_type": "stream",
     "text": [
      "\n",
      "Average Metric: 16.32 / 25 (65.3%): 100%|██████████| 25/25 [02:43<00:00,  6.54s/it]"
     ]
    },
    {
     "name": "stderr",
     "output_type": "stream",
     "text": [
      "2024/12/31 02:27:56 INFO dspy.evaluate.evaluate: Average Metric: 16.317471753598515 / 25 (65.3%)\n",
      "2024/12/31 02:27:56 INFO dspy.teleprompt.mipro_optimizer_v2: Score: 65.27 on minibatch of size 25 with parameters ['Predictor 0: Instruction 11', 'Predictor 0: Few-Shot Set 6'].\n",
      "2024/12/31 02:27:56 INFO dspy.teleprompt.mipro_optimizer_v2: Minibatch scores so far: [66.83, 69.62, 64.77, 66.39, 63.54, 63.32, 62.49, 69.34, 59.19, 60.45, 50.42, 65.65, 60.32, 65.22, 59.17, 60.71, 62.13, 68.81, 63.34, 68.67, 67.08, 63.75, 65.5, 62.79, 65.27]\n",
      "2024/12/31 02:27:56 INFO dspy.teleprompt.mipro_optimizer_v2: Full eval scores so far: [62.0, 62.94, 64.95]\n",
      "2024/12/31 02:27:56 INFO dspy.teleprompt.mipro_optimizer_v2: Best full score so far: 64.95\n",
      "2024/12/31 02:27:56 INFO dspy.teleprompt.mipro_optimizer_v2: =============================\n",
      "\n",
      "\n",
      "2024/12/31 02:27:56 INFO dspy.teleprompt.mipro_optimizer_v2: ===== Full Eval 3 =====\n",
      "2024/12/31 02:27:56 INFO dspy.teleprompt.mipro_optimizer_v2: Doing full eval on next top averaging program (Avg Score: 68.67) from minibatch trials...\n"
     ]
    },
    {
     "name": "stdout",
     "output_type": "stream",
     "text": [
      "\n",
      "Average Metric: 104.90 / 160 (65.6%): 100%|██████████| 160/160 [16:04<00:00,  6.03s/it]"
     ]
    },
    {
     "name": "stderr",
     "output_type": "stream",
     "text": [
      "2024/12/31 02:44:00 INFO dspy.evaluate.evaluate: Average Metric: 104.8971910398255 / 160 (65.6%)\n",
      "2024/12/31 02:44:00 INFO dspy.teleprompt.mipro_optimizer_v2: \u001b[92mNew best full eval score!\u001b[0m Score: 65.56\n",
      "2024/12/31 02:44:00 INFO dspy.teleprompt.mipro_optimizer_v2: Full eval scores so far: [62.0, 62.94, 64.95, 65.56]\n",
      "2024/12/31 02:44:00 INFO dspy.teleprompt.mipro_optimizer_v2: Best full score so far: 65.56\n",
      "2024/12/31 02:44:00 INFO dspy.teleprompt.mipro_optimizer_v2: =======================\n",
      "2024/12/31 02:44:00 INFO dspy.teleprompt.mipro_optimizer_v2: \n",
      "\n",
      "2024/12/31 02:44:00 INFO dspy.teleprompt.mipro_optimizer_v2: Returning best identified program with score 65.56!\n"
     ]
    },
    {
     "name": "stdout",
     "output_type": "stream",
     "text": [
      "\n"
     ]
    }
   ],
   "source": [
    "metric = SemanticF1(decompositional=True)\n",
    "tp = dspy.MIPROv2(metric=metric, auto=\"medium\", num_threads=4)\n",
    "\n",
    "optimized_rag = tp.compile(\n",
    "    RAG(),\n",
    "    trainset=train,\n",
    "    max_bootstrapped_demos=2,\n",
    "    max_labeled_demos=2,\n",
    "    requires_permission_to_run=False,\n",
    ")"
   ]
  },
  {
   "cell_type": "markdown",
   "metadata": {},
   "source": [
    "# Evaluate"
   ]
  },
  {
   "cell_type": "code",
   "execution_count": 12,
   "metadata": {},
   "outputs": [],
   "source": [
    "evaluate = dspy.Evaluate(\n",
    "    devset=dev, metric=metric, num_threads=4, display_progress=True, display_table=True\n",
    ")"
   ]
  },
  {
   "cell_type": "code",
   "execution_count": 13,
   "metadata": {},
   "outputs": [
    {
     "name": "stdout",
     "output_type": "stream",
     "text": [
      "Average Metric: 197.57 / 300 (65.9%): 100%|██████████| 300/300 [36:40<00:00,  7.34s/it]"
     ]
    },
    {
     "name": "stderr",
     "output_type": "stream",
     "text": [
      "2024/12/31 03:22:43 INFO dspy.evaluate.evaluate: Average Metric: 197.57031592560836 / 300 (65.9%)\n"
     ]
    },
    {
     "name": "stdout",
     "output_type": "stream",
     "text": [
      "\n"
     ]
    },
    {
     "data": {
      "text/html": [
       "<div>\n",
       "<style scoped>\n",
       "    .dataframe tbody tr th:only-of-type {\n",
       "        vertical-align: middle;\n",
       "    }\n",
       "\n",
       "    .dataframe tbody tr th {\n",
       "        vertical-align: top;\n",
       "    }\n",
       "\n",
       "    .dataframe thead th {\n",
       "        text-align: right;\n",
       "    }\n",
       "</style>\n",
       "<table border=\"1\" class=\"dataframe\">\n",
       "  <thead>\n",
       "    <tr style=\"text-align: right;\">\n",
       "      <th></th>\n",
       "      <th>question</th>\n",
       "      <th>example_response</th>\n",
       "      <th>gold_doc_ids</th>\n",
       "      <th>reasoning</th>\n",
       "      <th>pred_response</th>\n",
       "      <th>SemanticF1</th>\n",
       "    </tr>\n",
       "  </thead>\n",
       "  <tbody>\n",
       "    <tr>\n",
       "      <th>0</th>\n",
       "      <td>vtdecoderxpcservice taking cpu</td>\n",
       "      <td>Quit your applications one by one and monitor the process. Common ...</td>\n",
       "      <td>[2557, 4732, 5014, 5156, 5195, 5631, 5856, 4026]</td>\n",
       "      <td>The VTDecoderXPCService is a process that might be consuming CPU r...</td>\n",
       "      <td>Try quitting your applications one by one to identify which one is...</td>\n",
       "      <td>✔️ [0.667]</td>\n",
       "    </tr>\n",
       "    <tr>\n",
       "      <th>1</th>\n",
       "      <td>git auto-complete for *branches* at the command line?</td>\n",
       "      <td>You should try to update the git version to the latest, and then i...</td>\n",
       "      <td>[6715, 1766, 2902, 6154]</td>\n",
       "      <td>Based on the provided context from various users who have encounte...</td>\n",
       "      <td>To fix the issue of not being able to autocomplete branch names, y...</td>\n",
       "      <td>✔️ [0.667]</td>\n",
       "    </tr>\n",
       "    <tr>\n",
       "      <th>2</th>\n",
       "      <td>what functionality do marks offer in the el capitan terminal?</td>\n",
       "      <td>Marks in the Terminal, which began with OS X 10.11 - El Capitan, h...</td>\n",
       "      <td>[1234, 1253]</td>\n",
       "      <td>The question is asking about the functionality offered by marks in...</td>\n",
       "      <td>Marks offer several functionalities in the El Capitan Terminal, in...</td>\n",
       "      <td>✔️ [0.857]</td>\n",
       "    </tr>\n",
       "    <tr>\n",
       "      <th>3</th>\n",
       "      <td>how to convert a heif/heic image to jpeg in el capitan?</td>\n",
       "      <td>Users advise that tifig is an excellent command line tool that wor...</td>\n",
       "      <td>[7785, 680, 2705, 7201]</td>\n",
       "      <td>Based on the provided context from various sources, I will look fo...</td>\n",
       "      <td>One possible solution is to use the `sips` command-line tool that ...</td>\n",
       "      <td>✔️ [0.857]</td>\n",
       "    </tr>\n",
       "    <tr>\n",
       "      <th>4</th>\n",
       "      <td>why should i use a factory class instead of direct object construc...</td>\n",
       "      <td>Using factory classes along with interfaces promotes greater long-...</td>\n",
       "      <td>[4782]</td>\n",
       "      <td>The question of whether to use a factory class instead of direct o...</td>\n",
       "      <td>You should use a factory class instead of direct object constructi...</td>\n",
       "      <td>✔️ [0.857]</td>\n",
       "    </tr>\n",
       "    <tr>\n",
       "      <th>...</th>\n",
       "      <td>...</td>\n",
       "      <td>...</td>\n",
       "      <td>...</td>\n",
       "      <td>...</td>\n",
       "      <td>...</td>\n",
       "      <td>...</td>\n",
       "    </tr>\n",
       "    <tr>\n",
       "      <th>295</th>\n",
       "      <td>make the menu bar never show while in full screen</td>\n",
       "      <td>Some users report that the menu bar on Mac OS X cannot be hidden o...</td>\n",
       "      <td>[5370, 4551, 44, 6307]</td>\n",
       "      <td>Based on the provided context from various sources, I will look fo...</td>\n",
       "      <td>According to source [1], you can achieve this by unchecking the bo...</td>\n",
       "      <td>✔️ [0.400]</td>\n",
       "    </tr>\n",
       "    <tr>\n",
       "      <th>296</th>\n",
       "      <td>whats a good ssh tunneling client for os x?</td>\n",
       "      <td>SSHTunnel, a free application for managing SSH tunnels, is still g...</td>\n",
       "      <td>[2186, 2809, 2814, 2817, 526, 5277, 6415, 1635, 1671, 6739, 2868, ...</td>\n",
       "      <td>Based on the provided context about SSH tunneling clients for OS X...</td>\n",
       "      <td>Core Tunnel baked by Codinn appears to be a popular and user-frien...</td>\n",
       "      <td>✔️ [0.267]</td>\n",
       "    </tr>\n",
       "    <tr>\n",
       "      <th>297</th>\n",
       "      <td>delete line in vi</td>\n",
       "      <td>Use the \"dd\" command, which will remove the line, allowing you to ...</td>\n",
       "      <td>[3122, 3123, 3129, 5910, 4792, 2164]</td>\n",
       "      <td>To answer this question, I will look through the provided context ...</td>\n",
       "      <td>There are several ways to delete lines in vi: * In any POSIX-compl...</td>\n",
       "      <td>✔️ [0.667]</td>\n",
       "    </tr>\n",
       "    <tr>\n",
       "      <th>298</th>\n",
       "      <td>return only the portion of a line after a matching pattern</td>\n",
       "      <td>The primary tool for text manipulation and pattern replacement is ...</td>\n",
       "      <td>[5023, 958, 6330]</td>\n",
       "      <td>Based on the provided context from various sources, I will look fo...</td>\n",
       "      <td>To return only the portion of a line after a matching pattern, you...</td>\n",
       "      <td></td>\n",
       "    </tr>\n",
       "    <tr>\n",
       "      <th>299</th>\n",
       "      <td>can we delete fsd files?</td>\n",
       "      <td>Yes, although they'll just be recreated as you sync back and forth...</td>\n",
       "      <td>[3265]</td>\n",
       "      <td>Based on the provided context from various sources, I will look fo...</td>\n",
       "      <td>Unfortunately, there is no direct information about deleting fsd f...</td>\n",
       "      <td>✔️ [0.333]</td>\n",
       "    </tr>\n",
       "  </tbody>\n",
       "</table>\n",
       "<p>300 rows × 6 columns</p>\n",
       "</div>"
      ],
      "text/plain": [
       "                                                                  question  ...  SemanticF1\n",
       "0                                           vtdecoderxpcservice taking cpu  ...  ✔️ [0.667]\n",
       "1                    git auto-complete for *branches* at the command line?  ...  ✔️ [0.667]\n",
       "2            what functionality do marks offer in the el capitan terminal?  ...  ✔️ [0.857]\n",
       "3                  how to convert a heif/heic image to jpeg in el capitan?  ...  ✔️ [0.857]\n",
       "4    why should i use a factory class instead of direct object construc...  ...  ✔️ [0.857]\n",
       "..                                                                     ...  ...         ...\n",
       "295                      make the menu bar never show while in full screen  ...  ✔️ [0.400]\n",
       "296                            whats a good ssh tunneling client for os x?  ...  ✔️ [0.267]\n",
       "297                                                      delete line in vi  ...  ✔️ [0.667]\n",
       "298             return only the portion of a line after a matching pattern  ...            \n",
       "299                                               can we delete fsd files?  ...  ✔️ [0.333]\n",
       "\n",
       "[300 rows x 6 columns]"
      ]
     },
     "metadata": {},
     "output_type": "display_data"
    },
    {
     "data": {
      "text/plain": [
       "65.86"
      ]
     },
     "execution_count": 13,
     "metadata": {},
     "output_type": "execute_result"
    }
   ],
   "source": [
    "evaluate(optimized_rag)"
   ]
  },
  {
   "cell_type": "code",
   "execution_count": null,
   "metadata": {},
   "outputs": [],
   "source": []
  }
 ],
 "metadata": {
  "kernelspec": {
   "display_name": "mlenv",
   "language": "python",
   "name": "python3"
  },
  "language_info": {
   "codemirror_mode": {
    "name": "ipython",
    "version": 3
   },
   "file_extension": ".py",
   "mimetype": "text/x-python",
   "name": "python",
   "nbconvert_exporter": "python",
   "pygments_lexer": "ipython3",
   "version": "3.12.6"
  }
 },
 "nbformat": 4,
 "nbformat_minor": 2
}
