{
 "cells": [
  {
   "cell_type": "code",
   "execution_count": 1,
   "metadata": {},
   "outputs": [],
   "source": [
    "import dspy\n",
    "import ujson\n",
    "import random\n",
    "\n",
    "from dspy.evaluate import SemanticF1\n",
    "from dspy.utils import download"
   ]
  },
  {
   "cell_type": "markdown",
   "metadata": {},
   "source": [
    "# Download Data"
   ]
  },
  {
   "cell_type": "code",
   "execution_count": 2,
   "metadata": {},
   "outputs": [
    {
     "name": "stdout",
     "output_type": "stream",
     "text": [
      "Downloading 'ragqa_arena_tech_examples.jsonl'...\n"
     ]
    }
   ],
   "source": [
    "download(\n",
    "    \"https://huggingface.co/dspy/cache/resolve/main/ragqa_arena_tech_examples.jsonl\"\n",
    ")\n",
    "with open(\"ragqa_arena_tech_examples.jsonl\", \"r\") as fp:\n",
    "    data = [ujson.loads(line) for line in fp]"
   ]
  },
  {
   "cell_type": "code",
   "execution_count": 3,
   "metadata": {},
   "outputs": [
    {
     "data": {
      "text/plain": [
       "{'question': 'why igp is used in mpls?',\n",
       " 'response': \"An IGP exchanges routing prefixes between gateways/routers.  \\nWithout a routing protocol, you'd have to configure each route on every router and you'd have no dynamic updates when routes change because of link failures. \\nFuthermore, within an MPLS network, an IGP is vital for advertising the internal topology and ensuring connectivity for MP-BGP inside the network.\",\n",
       " 'gold_doc_ids': [2822, 2823]}"
      ]
     },
     "execution_count": 3,
     "metadata": {},
     "output_type": "execute_result"
    }
   ],
   "source": [
    "data[0]"
   ]
  },
  {
   "cell_type": "markdown",
   "metadata": {},
   "source": [
    "# Convert Data to DSPy Examples"
   ]
  },
  {
   "cell_type": "code",
   "execution_count": 4,
   "metadata": {},
   "outputs": [
    {
     "data": {
      "text/plain": [
       "Example({'question': 'why are my text messages coming up as maybe?', 'response': 'This is part of the Proactivity features new with iOS 9: It looks at info in emails to see if anyone with this number sent you an email and if it finds the phone number associated with a contact from your email, it will show you \"Maybe\". \\n\\nHowever, it has been suggested there is a bug in iOS 11.2 that can result in \"Maybe\" being displayed even when \"Find Contacts in Other Apps\" is disabled.', 'gold_doc_ids': [3956, 3957, 8034]}) (input_keys={'question'})"
      ]
     },
     "execution_count": 4,
     "metadata": {},
     "output_type": "execute_result"
    }
   ],
   "source": [
    "data = [dspy.Example(**d).with_inputs(\"question\") for d in data]\n",
    "data[2]"
   ]
  },
  {
   "cell_type": "code",
   "execution_count": 5,
   "metadata": {},
   "outputs": [
    {
     "data": {
      "text/plain": [
       "2064"
      ]
     },
     "execution_count": 5,
     "metadata": {},
     "output_type": "execute_result"
    }
   ],
   "source": [
    "len(data)"
   ]
  },
  {
   "cell_type": "markdown",
   "metadata": {},
   "source": [
    "# Train/Test Split"
   ]
  },
  {
   "cell_type": "code",
   "execution_count": 6,
   "metadata": {},
   "outputs": [],
   "source": [
    "random.Random(23).shuffle(data)\n",
    "train, dev, test = data[:200], data[200:500], data[500:]"
   ]
  },
  {
   "cell_type": "markdown",
   "metadata": {},
   "source": [
    "# DSPy Setups"
   ]
  },
  {
   "cell_type": "code",
   "execution_count": 7,
   "metadata": {},
   "outputs": [],
   "source": [
    "lm = dspy.LM(model=\"ollama_chat/llama3.1\", temperature=0.0)\n",
    "dspy.configure(lm=lm)\n",
    "\n",
    "cot = dspy.ChainOfThought(\"question -> response\")"
   ]
  },
  {
   "cell_type": "markdown",
   "metadata": {},
   "source": [
    "# Evaluation in DSPy"
   ]
  },
  {
   "cell_type": "code",
   "execution_count": 8,
   "metadata": {},
   "outputs": [
    {
     "name": "stdout",
     "output_type": "stream",
     "text": [
      "Question:\t how can i show typing keyboard in record screen\n",
      "Gold Response:\t One method involves using Screenflow, a software that includes this feature and is priced at $99.  \n",
      "Additionally, standalone apps like Keycastr and Mouseposé can be used for the same purpose.  \n",
      "Another alternative is showing the on-screen keyboard, although this results in a different aesthetic.\n",
      "Pred Response:\t To show a typing keyboard in a recorded screen using OBS Studio:\n",
      "\n",
      "1. Open OBS Studio and add a new source by clicking the \"+\" button.\n",
      "2. Select \"Virtual Keyboard\" from the list of available sources.\n",
      "3. Customize the appearance of the virtual keyboard as desired, including its size, color, and font.\n",
      "4. Position the virtual keyboard within the recording area to match your desired layout.\n",
      "5. Start recording your screen using OBS Studio.\n",
      "\n",
      "By following these steps, you can add a typing keyboard to your recorded screen in OBS Studio.\n",
      "Semantic F1 Score:\t 0.86\n"
     ]
    }
   ],
   "source": [
    "metric = SemanticF1(decompositional=True)\n",
    "pred = cot(**data[2].inputs())\n",
    "score = metric(data[2], pred)\n",
    "\n",
    "print(f\"Question:\\t {data[2].question}\")\n",
    "print(f\"Gold Response:\\t {data[2].response}\")\n",
    "print(f\"Pred Response:\\t {pred.response}\")\n",
    "print(f\"Semantic F1 Score:\\t {score:.2f}\")"
   ]
  },
  {
   "cell_type": "code",
   "execution_count": 9,
   "metadata": {},
   "outputs": [
    {
     "name": "stdout",
     "output_type": "stream",
     "text": [
      "Average Metric: 169.96 / 299 (56.8%): 100%|█████████▉| 299/300 [17:56<00:02,  2.37s/it]"
     ]
    },
    {
     "name": "stderr",
     "output_type": "stream",
     "text": [
      "2024/12/30 02:40:58 ERROR dspy.utils.parallelizer: Error processing item Example({'question': 'return only the portion of a line after a matching pattern', 'response': 'The primary tool for text manipulation and pattern replacement is sed, which operates with commands like: `sed -n -e \\'s/^.*stalled: //p\\'`, which are designed to search and transform strings within text files. \\nThe following sed command, utilizing groups and backreferences, swaps the sections before and after the specified match string: `sed -n -e \\'s/^\\\\(.*\\\\)\\\\(stalled: \\\\)\\\\(.*\\\\)$/\\\\3\\\\2\\\\1/p\\'`. \\nAnother tool, grep, like: \"grep -o \\'stalled.*\\', provides the ability to return only the matching parts of text lines through the use of specific flags like -o. \\nAdditionally, the cut command: \"grep -o \\'stalled.*\\' | cut -f2- -d\" can be employed for extracting certain parts of a text line by using delimiters to specify the fields you want to keep. \\nAlternatively, awk command: \"awk -F\"stalled\" \\'/stalled/{print $2}\\'\" allows for field-based text processing, utilizing patterns to search and print specified columns of text.', 'gold_doc_ids': [5023, 958, 6330]}) (input_keys={'question'}): 'list' object has no attribute 'items'. Set `provide_traceback=True` to see the stack trace.\n"
     ]
    },
    {
     "name": "stdout",
     "output_type": "stream",
     "text": [
      "Average Metric: 169.96 / 299 (56.8%): 100%|██████████| 300/300 [18:09<00:00,  3.63s/it]"
     ]
    },
    {
     "name": "stderr",
     "output_type": "stream",
     "text": [
      "2024/12/30 02:40:58 INFO dspy.evaluate.evaluate: Average Metric: 169.96268669706683 / 300 (56.7%)\n"
     ]
    },
    {
     "name": "stdout",
     "output_type": "stream",
     "text": [
      "\n"
     ]
    },
    {
     "data": {
      "text/html": [
       "<div>\n",
       "<style scoped>\n",
       "    .dataframe tbody tr th:only-of-type {\n",
       "        vertical-align: middle;\n",
       "    }\n",
       "\n",
       "    .dataframe tbody tr th {\n",
       "        vertical-align: top;\n",
       "    }\n",
       "\n",
       "    .dataframe thead th {\n",
       "        text-align: right;\n",
       "    }\n",
       "</style>\n",
       "<table border=\"1\" class=\"dataframe\">\n",
       "  <thead>\n",
       "    <tr style=\"text-align: right;\">\n",
       "      <th></th>\n",
       "      <th>question</th>\n",
       "      <th>example_response</th>\n",
       "      <th>gold_doc_ids</th>\n",
       "      <th>reasoning</th>\n",
       "      <th>pred_response</th>\n",
       "      <th>SemanticF1</th>\n",
       "      <th>response</th>\n",
       "    </tr>\n",
       "  </thead>\n",
       "  <tbody>\n",
       "    <tr>\n",
       "      <th>0</th>\n",
       "      <td>vtdecoderxpcservice taking cpu</td>\n",
       "      <td>Quit your applications one by one and monitor the process. Common ...</td>\n",
       "      <td>[2557, 4732, 5014, 5156, 5195, 5631, 5856, 4026]</td>\n",
       "      <td>The high CPU usage by vtdecoderxpcservice is likely due to a resou...</td>\n",
       "      <td>Try restarting the vtdecoderxpcservice to see if it resolves the h...</td>\n",
       "      <td>✔️ [0.353]</td>\n",
       "      <td>NaN</td>\n",
       "    </tr>\n",
       "    <tr>\n",
       "      <th>1</th>\n",
       "      <td>git auto-complete for *branches* at the command line?</td>\n",
       "      <td>You should try to update the git version to the latest, and then i...</td>\n",
       "      <td>[6715, 1766, 2902, 6154]</td>\n",
       "      <td>To find the correct command to auto-complete branches in Git at th...</td>\n",
       "      <td>The command for enabling auto-completion is `source /usr/share/git...</td>\n",
       "      <td></td>\n",
       "      <td>NaN</td>\n",
       "    </tr>\n",
       "    <tr>\n",
       "      <th>2</th>\n",
       "      <td>what functionality do marks offer in the el capitan terminal?</td>\n",
       "      <td>Marks in the Terminal, which began with OS X 10.11 - El Capitan, h...</td>\n",
       "      <td>[1234, 1253]</td>\n",
       "      <td>The question is asking about the functionality of marks in the El ...</td>\n",
       "      <td>Marks offer several functionalities in the El Capitan terminal, in...</td>\n",
       "      <td>✔️ [0.571]</td>\n",
       "      <td>NaN</td>\n",
       "    </tr>\n",
       "    <tr>\n",
       "      <th>3</th>\n",
       "      <td>how to convert a heif/heic image to jpeg in el capitan?</td>\n",
       "      <td>Users advise that tifig is an excellent command line tool that wor...</td>\n",
       "      <td>[7785, 680, 2705, 7201]</td>\n",
       "      <td>To convert a HEIF/HEIC image to JPEG in El Capitan, we can use the...</td>\n",
       "      <td>To convert a HEIF/HEIC image to JPEG in El Capitan: 1. Open Termin...</td>\n",
       "      <td>✔️ [0.667]</td>\n",
       "      <td>NaN</td>\n",
       "    </tr>\n",
       "    <tr>\n",
       "      <th>4</th>\n",
       "      <td>why should i use a factory class instead of direct object construc...</td>\n",
       "      <td>Using factory classes along with interfaces promotes greater long-...</td>\n",
       "      <td>[4782]</td>\n",
       "      <td>Using a factory class instead of direct object construction provid...</td>\n",
       "      <td>Use a factory class to control and decouple object creation, impro...</td>\n",
       "      <td>✔️ [0.857]</td>\n",
       "      <td>NaN</td>\n",
       "    </tr>\n",
       "    <tr>\n",
       "      <th>...</th>\n",
       "      <td>...</td>\n",
       "      <td>...</td>\n",
       "      <td>...</td>\n",
       "      <td>...</td>\n",
       "      <td>...</td>\n",
       "      <td>...</td>\n",
       "      <td>...</td>\n",
       "    </tr>\n",
       "    <tr>\n",
       "      <th>295</th>\n",
       "      <td>make the menu bar never show while in full screen</td>\n",
       "      <td>Some users report that the menu bar on Mac OS X cannot be hidden o...</td>\n",
       "      <td>[5370, 4551, 44, 6307]</td>\n",
       "      <td>To make the menu bar never show while in full screen, we can use C...</td>\n",
       "      <td>You can achieve this by adding the following CSS code: ```css @med...</td>\n",
       "      <td>✔️ [1.000]</td>\n",
       "      <td>NaN</td>\n",
       "    </tr>\n",
       "    <tr>\n",
       "      <th>296</th>\n",
       "      <td>whats a good ssh tunneling client for os x?</td>\n",
       "      <td>SSHTunnel, a free application for managing SSH tunnels, is still g...</td>\n",
       "      <td>[2186, 2809, 2814, 2817, 526, 5277, 6415, 1635, 1671, 6739, 2868, ...</td>\n",
       "      <td>To answer this question, I'll consider popular SSH tunneling clien...</td>\n",
       "      <td>Based on the options considered, Tunnelblick seems to be a good ch...</td>\n",
       "      <td>✔️ [0.200]</td>\n",
       "      <td>NaN</td>\n",
       "    </tr>\n",
       "    <tr>\n",
       "      <th>297</th>\n",
       "      <td>delete line in vi</td>\n",
       "      <td>Use the \"dd\" command, which will remove the line, allowing you to ...</td>\n",
       "      <td>[3122, 3123, 3129, 5910, 4792, 2164]</td>\n",
       "      <td>The command to delete a line in vi is 'd' followed by '$', which m...</td>\n",
       "      <td>'d$'</td>\n",
       "      <td></td>\n",
       "      <td>NaN</td>\n",
       "    </tr>\n",
       "    <tr>\n",
       "      <th>298</th>\n",
       "      <td>return only the portion of a line after a matching pattern</td>\n",
       "      <td>NaN</td>\n",
       "      <td>[5023, 958, 6330]</td>\n",
       "      <td>NaN</td>\n",
       "      <td>NaN</td>\n",
       "      <td></td>\n",
       "      <td>The primary tool for text manipulation and pattern replacement is ...</td>\n",
       "    </tr>\n",
       "    <tr>\n",
       "      <th>299</th>\n",
       "      <td>can we delete fsd files?</td>\n",
       "      <td>Yes, although they'll just be recreated as you sync back and forth...</td>\n",
       "      <td>[3265]</td>\n",
       "      <td>The question is asking about deleting files with a specific extens...</td>\n",
       "      <td>Yes, you can delete .fsd files. However, be cautious when deleting...</td>\n",
       "      <td>✔️ [0.774]</td>\n",
       "      <td>NaN</td>\n",
       "    </tr>\n",
       "  </tbody>\n",
       "</table>\n",
       "<p>300 rows × 7 columns</p>\n",
       "</div>"
      ],
      "text/plain": [
       "                                                                  question  ...                                                               response\n",
       "0                                           vtdecoderxpcservice taking cpu  ...                                                                    NaN\n",
       "1                    git auto-complete for *branches* at the command line?  ...                                                                    NaN\n",
       "2            what functionality do marks offer in the el capitan terminal?  ...                                                                    NaN\n",
       "3                  how to convert a heif/heic image to jpeg in el capitan?  ...                                                                    NaN\n",
       "4    why should i use a factory class instead of direct object construc...  ...                                                                    NaN\n",
       "..                                                                     ...  ...                                                                    ...\n",
       "295                      make the menu bar never show while in full screen  ...                                                                    NaN\n",
       "296                            whats a good ssh tunneling client for os x?  ...                                                                    NaN\n",
       "297                                                      delete line in vi  ...                                                                    NaN\n",
       "298             return only the portion of a line after a matching pattern  ...  The primary tool for text manipulation and pattern replacement is ...\n",
       "299                                               can we delete fsd files?  ...                                                                    NaN\n",
       "\n",
       "[300 rows x 7 columns]"
      ]
     },
     "metadata": {},
     "output_type": "display_data"
    },
    {
     "data": {
      "text/plain": [
       "56.65"
      ]
     },
     "execution_count": 9,
     "metadata": {},
     "output_type": "execute_result"
    }
   ],
   "source": [
    "evaluate = dspy.Evaluate(\n",
    "    devset=dev, metric=metric, num_threads=4, display_progress=True, display_table=True\n",
    ")\n",
    "evaluate(cot)"
   ]
  },
  {
   "cell_type": "code",
   "execution_count": null,
   "metadata": {},
   "outputs": [],
   "source": []
  }
 ],
 "metadata": {
  "kernelspec": {
   "display_name": "mlenv",
   "language": "python",
   "name": "python3"
  },
  "language_info": {
   "codemirror_mode": {
    "name": "ipython",
    "version": 3
   },
   "file_extension": ".py",
   "mimetype": "text/x-python",
   "name": "python",
   "nbconvert_exporter": "python",
   "pygments_lexer": "ipython3",
   "version": "3.12.6"
  }
 },
 "nbformat": 4,
 "nbformat_minor": 2
}
