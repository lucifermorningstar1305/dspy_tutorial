{
 "cells": [
  {
   "cell_type": "code",
   "execution_count": 1,
   "metadata": {},
   "outputs": [],
   "source": [
    "import dspy\n",
    "import ujson\n",
    "import chromadb\n",
    "\n",
    "from chromadb.utils import embedding_functions\n",
    "from dspy.evaluate import SemanticF1\n",
    "from dspy.retrieve.chromadb_rm import ChromadbRM\n",
    "from dspy.utils import download"
   ]
  },
  {
   "cell_type": "markdown",
   "metadata": {},
   "source": [
    "# Download the Data"
   ]
  },
  {
   "cell_type": "code",
   "execution_count": 21,
   "metadata": {},
   "outputs": [
    {
     "name": "stdout",
     "output_type": "stream",
     "text": [
      "{'doc_id': 131078, 'author': None, 'text': 'http://abtevrythng.blogspot.com/2010/06/adding-cer-certificates-on-your-android.html Shows how to actually achieve this. Worked fine for me. Try it out. In this article .cer to .pfx (which is what you need on Android) conversion is given. Simple method is given using which you can convert .cer to .pfx and use it to connect to the Wi-Fi network. Plus you dont need any Key to convert .cer to .pfx!!!'}\n",
      "{'question': 'why are my text messages coming up as maybe?', 'response': 'This is part of the Proactivity features new with iOS 9: It looks at info in emails to see if anyone with this number sent you an email and if it finds the phone number associated with a contact from your email, it will show you \"Maybe\". \\n\\nHowever, it has been suggested there is a bug in iOS 11.2 that can result in \"Maybe\" being displayed even when \"Find Contacts in Other Apps\" is disabled.', 'gold_doc_ids': [3956, 3957, 8034]}\n"
     ]
    },
    {
     "data": {
      "text/plain": [
       "2064"
      ]
     },
     "execution_count": 21,
     "metadata": {},
     "output_type": "execute_result"
    }
   ],
   "source": [
    "download(\"https://huggingface.co/dspy/cache/resolve/main/ragqa_arena_tech_corpus.jsonl\")\n",
    "with open(\"./ragqa_arena_tech_corpus.jsonl\", \"r\") as fp:\n",
    "    corpus = [ujson.loads(line) for line in fp]\n",
    "\n",
    "download(\n",
    "    \"https://huggingface.co/dspy/cache/resolve/main/ragqa_arena_tech_examples.jsonl\"\n",
    ")\n",
    "with open(\"ragqa_arena_tech_examples.jsonl\", \"r\") as fp:\n",
    "    qa = [ujson.loads(line) for line in fp]\n",
    "\n",
    "print(corpus[2])\n",
    "len(corpus)\n",
    "print(qa[2])\n",
    "len(qa)"
   ]
  },
  {
   "cell_type": "markdown",
   "metadata": {},
   "source": [
    "# Upload to Chroma"
   ]
  },
  {
   "cell_type": "code",
   "execution_count": 3,
   "metadata": {},
   "outputs": [],
   "source": [
    "client = chromadb.PersistentClient(path=\"./db\")\n",
    "collection = client.get_or_create_collection(name=\"test\")\n",
    "max_chars = 6000"
   ]
  },
  {
   "cell_type": "code",
   "execution_count": 4,
   "metadata": {},
   "outputs": [],
   "source": [
    "documents = [data[\"text\"][:max_chars] for data in corpus]\n",
    "ids = [str(data[\"doc_id\"]) for data in corpus]\n",
    "collection.add(documents=documents, ids=ids)"
   ]
  },
  {
   "cell_type": "markdown",
   "metadata": {},
   "source": [
    "# Define the Retriever"
   ]
  },
  {
   "cell_type": "code",
   "execution_count": 5,
   "metadata": {},
   "outputs": [],
   "source": [
    "embed_fn = embedding_functions.DefaultEmbeddingFunction()\n",
    "retriever_model = ChromadbRM(\n",
    "    collection_name=\"test\", persist_directory=\"./db\", embedding_function=embed_fn, k=5\n",
    ")"
   ]
  },
  {
   "cell_type": "code",
   "execution_count": 6,
   "metadata": {},
   "outputs": [
    {
     "data": {
      "text/plain": [
       "[{'id': '172068',\n",
       "  'score': 0.6003709435462952,\n",
       "  'long_text': 'This is relevant to the Linux kernel; Im not sure how any Unix kernel handles this. The High Memory is the segment of memory that user-space programs can address. It cannot touch Low Memory. Low Memory is the segment of memory that the Linux kernel can address directly. If the kernel must access High Memory, it has to map it into its own address space first. There was a patch introduced recently that lets you control where the segment is. The tradeoff is that you can take addressable memory away from user space so that the kernel can have more memory that it does not have to map before using. Additional resources: http://tldp.org/HOWTO/KernelAnalysis-HOWTO-7.html http://linux-mm.org/HighMemory',\n",
       "  'metadatas': None},\n",
       " {'id': '172066',\n",
       "  'score': 0.6697648763656616,\n",
       "  'long_text': 'As far as I remember, High Memory is used for application space and Low Memory for the kernel. Advantage is that (user-space) applications cant access kernel-space memory.',\n",
       "  'metadatas': None},\n",
       " {'id': '257767',\n",
       "  'score': 0.7363556623458862,\n",
       "  'long_text': 'It may be a huge doc to start, but I think its worth the time youll need to read it : Have look on the Linux-Insides doc, more precisely the Memory Management part. You can also read it through Gitbooks Have fun.',\n",
       "  'metadatas': None},\n",
       " {'id': '199875',\n",
       "  'score': 0.7595967650413513,\n",
       "  'long_text': 'HIGHMEM is a range of kernels memory space, but it is NOT memory you access but its a place where you put what you want to access. A typical 32bit Linux virtual memory map is like: 0x00000000-0xbfffffff: user process (3GB) 0xc0000000-0xffffffff: kernel space (1GB) (CPU-specific vector and whatsoever are ignored here). Linux splits the 1GB kernel space into 2 pieces, LOWMEM and HIGHMEM. The split varies from installation to installation. If an installation chooses, say, 512MB-512MB for LOW and HIGH mems, the 512MB LOWMEM (0xc0000000-0xdfffffff) is statically mapped at the kernel boot time; usually the first so many bytes of the physical memory is used for this so that virtual and physical addresses in this range have a constant offset of, say, 0xc0000000. On the other hand, the latter 512MB (HIGHMEM) has no static mapping (although you could leave pages semi-permanently mapped there, but you must do so explicitly in your driver code). Instead, pages are temporarily mapped and unmapped here so that virtual and physical addresses in this range have no consistent mapping. Typical uses of HIGHMEM include single-time data buffers.',\n",
       "  'metadatas': None},\n",
       " {'id': '172079',\n",
       "  'score': 0.8863208293914795,\n",
       "  'long_text': 'The first reference to turn to is Linux Device Drivers (available both online and in book form), particularly chapter 15 which has a section on the topic. In an ideal world, every system component would be able to map all the memory it ever needs to access. And this is the case for processes on Linux and most operating systems: a 32-bit process can only access a little less than 2^32 bytes of virtual memory (in fact about 3GB on a typical Linux 32-bit architecture). It gets difficult for the kernel, which needs to be able to map the full memory of the process whose system call its executing, plus the whole physical memory, plus any other memory-mapped hardware device. So when a 32-bit kernel needs to map more than 4GB of memory, it must be compiled with high memory support. High memory is memory which is not permanently mapped in the kernels address space. (Low memory is the opposite: it is always mapped, so you can access it in the kernel simply by dereferencing a pointer.) When you access high memory from kernel code, you need to call kmap first, to obtain a pointer from a page data structure (struct page). Calling kmap works whether the page is in high or low memory. There is also kmap_atomic which has added constraints but is more efficient on multiprocessor machines because it uses finer-grained locking. The pointer obtained through kmap is a resource: it uses up address space. Once youve finished with it, you must call kunmap (or kunmap_atomic) to free that resource; then the pointer is no longer valid, and the contents of the page cant be accessed until you call kmap again.',\n",
       "  'metadatas': None}]"
      ]
     },
     "execution_count": 6,
     "metadata": {},
     "output_type": "execute_result"
    }
   ],
   "source": [
    "retriever_model(\"what are high memory and low memory on linux?\")"
   ]
  },
  {
   "cell_type": "markdown",
   "metadata": {},
   "source": [
    "# Load LM"
   ]
  },
  {
   "cell_type": "code",
   "execution_count": 9,
   "metadata": {},
   "outputs": [],
   "source": [
    "lm = dspy.LM(model=\"ollama_chat/llama3.1\", temperature=0.0)\n",
    "dspy.configure(lm=lm)"
   ]
  },
  {
   "cell_type": "markdown",
   "metadata": {},
   "source": [
    "# Build the RAG Module"
   ]
  },
  {
   "cell_type": "code",
   "execution_count": 10,
   "metadata": {},
   "outputs": [],
   "source": [
    "class RAG(dspy.Module):\n",
    "    def __init__(self):\n",
    "        self.respond = dspy.ChainOfThought(\"context, question -> response\")\n",
    "\n",
    "    def forward(self, question):\n",
    "        ret_docs = retriever_model(question)\n",
    "        context = [doc[\"long_text\"] for doc in ret_docs]\n",
    "        return self.respond(context=context, question=question)"
   ]
  },
  {
   "cell_type": "markdown",
   "metadata": {},
   "source": [
    "# Test RAG"
   ]
  },
  {
   "cell_type": "code",
   "execution_count": 11,
   "metadata": {},
   "outputs": [
    {
     "data": {
      "text/plain": [
       "Prediction(\n",
       "    reasoning='Based on the provided context, High Memory (HIGHMEM) refers to a range of kernel memory space where pages are temporarily mapped and unmapped. It is used for single-time data buffers and has no static mapping. Low Memory (LOWMEM), on the other hand, is a statically mapped part of the 1GB kernel space that is used by the kernel directly.',\n",
       "    response='High Memory and Low Memory are two segments of memory in Linux:\\n\\n* High Memory (HIGHMEM): A range of kernel memory space where pages are temporarily mapped and unmapped. It is used for single-time data buffers.\\n* Low Memory (LOWMEM): A statically mapped part of the 1GB kernel space that is used by the kernel directly.'\n",
       ")"
      ]
     },
     "execution_count": 11,
     "metadata": {},
     "output_type": "execute_result"
    }
   ],
   "source": [
    "rag = RAG()\n",
    "rag(question=\"what are high memory and low memory on linux?\")"
   ]
  },
  {
   "cell_type": "code",
   "execution_count": 13,
   "metadata": {},
   "outputs": [
    {
     "name": "stdout",
     "output_type": "stream",
     "text": [
      "\n",
      "\n",
      "\n",
      "\n",
      "\u001b[34m[2024-12-30T19:37:33.293722]\u001b[0m\n",
      "\n",
      "\u001b[31mSystem message:\u001b[0m\n",
      "\n",
      "Your input fields are:\n",
      "1. `context` (str)\n",
      "2. `question` (str)\n",
      "\n",
      "Your output fields are:\n",
      "1. `reasoning` (str)\n",
      "2. `response` (str)\n",
      "\n",
      "All interactions will be structured in the following way, with the appropriate values filled in.\n",
      "\n",
      "[[ ## context ## ]]\n",
      "{context}\n",
      "\n",
      "[[ ## question ## ]]\n",
      "{question}\n",
      "\n",
      "[[ ## reasoning ## ]]\n",
      "{reasoning}\n",
      "\n",
      "[[ ## response ## ]]\n",
      "{response}\n",
      "\n",
      "[[ ## completed ## ]]\n",
      "\n",
      "In adhering to this structure, your objective is: \n",
      "        Given the fields `context`, `question`, produce the fields `response`.\n",
      "\n",
      "\n",
      "\u001b[31mUser message:\u001b[0m\n",
      "\n",
      "[[ ## context ## ]]\n",
      "[1] «This is relevant to the Linux kernel; Im not sure how any Unix kernel handles this. The High Memory is the segment of memory that user-space programs can address. It cannot touch Low Memory. Low Memory is the segment of memory that the Linux kernel can address directly. If the kernel must access High Memory, it has to map it into its own address space first. There was a patch introduced recently that lets you control where the segment is. The tradeoff is that you can take addressable memory away from user space so that the kernel can have more memory that it does not have to map before using. Additional resources: http://tldp.org/HOWTO/KernelAnalysis-HOWTO-7.html http://linux-mm.org/HighMemory»\n",
      "[2] «As far as I remember, High Memory is used for application space and Low Memory for the kernel. Advantage is that (user-space) applications cant access kernel-space memory.»\n",
      "[3] «It may be a huge doc to start, but I think its worth the time youll need to read it : Have look on the Linux-Insides doc, more precisely the Memory Management part. You can also read it through Gitbooks Have fun.»\n",
      "[4] «HIGHMEM is a range of kernels memory space, but it is NOT memory you access but its a place where you put what you want to access. A typical 32bit Linux virtual memory map is like: 0x00000000-0xbfffffff: user process (3GB) 0xc0000000-0xffffffff: kernel space (1GB) (CPU-specific vector and whatsoever are ignored here). Linux splits the 1GB kernel space into 2 pieces, LOWMEM and HIGHMEM. The split varies from installation to installation. If an installation chooses, say, 512MB-512MB for LOW and HIGH mems, the 512MB LOWMEM (0xc0000000-0xdfffffff) is statically mapped at the kernel boot time; usually the first so many bytes of the physical memory is used for this so that virtual and physical addresses in this range have a constant offset of, say, 0xc0000000. On the other hand, the latter 512MB (HIGHMEM) has no static mapping (although you could leave pages semi-permanently mapped there, but you must do so explicitly in your driver code). Instead, pages are temporarily mapped and unmapped here so that virtual and physical addresses in this range have no consistent mapping. Typical uses of HIGHMEM include single-time data buffers.»\n",
      "[5] «The first reference to turn to is Linux Device Drivers (available both online and in book form), particularly chapter 15 which has a section on the topic. In an ideal world, every system component would be able to map all the memory it ever needs to access. And this is the case for processes on Linux and most operating systems: a 32-bit process can only access a little less than 2^32 bytes of virtual memory (in fact about 3GB on a typical Linux 32-bit architecture). It gets difficult for the kernel, which needs to be able to map the full memory of the process whose system call its executing, plus the whole physical memory, plus any other memory-mapped hardware device. So when a 32-bit kernel needs to map more than 4GB of memory, it must be compiled with high memory support. High memory is memory which is not permanently mapped in the kernels address space. (Low memory is the opposite: it is always mapped, so you can access it in the kernel simply by dereferencing a pointer.) When you access high memory from kernel code, you need to call kmap first, to obtain a pointer from a page data structure (struct page). Calling kmap works whether the page is in high or low memory. There is also kmap_atomic which has added constraints but is more efficient on multiprocessor machines because it uses finer-grained locking. The pointer obtained through kmap is a resource: it uses up address space. Once youve finished with it, you must call kunmap (or kunmap_atomic) to free that resource; then the pointer is no longer valid, and the contents of the page cant be accessed until you call kmap again.»\n",
      "\n",
      "[[ ## question ## ]]\n",
      "what are high memory and low memory on linux?\n",
      "\n",
      "Respond with the corresponding output fields, starting with the field `[[ ## reasoning ## ]]`, then `[[ ## response ## ]]`, and then ending with the marker for `[[ ## completed ## ]]`.\n",
      "\n",
      "\n",
      "\u001b[31mResponse:\u001b[0m\n",
      "\n",
      "\u001b[32m[[ ## reasoning ## ]]\n",
      "Based on the provided context, High Memory (HIGHMEM) refers to a range of kernel memory space where pages are temporarily mapped and unmapped. It is used for single-time data buffers and has no static mapping. Low Memory (LOWMEM), on the other hand, is a statically mapped part of the 1GB kernel space that is used by the kernel directly.\n",
      "\n",
      "[[ ## response ## ]]\n",
      "High Memory and Low Memory are two segments of memory in Linux:\n",
      "\n",
      "* High Memory (HIGHMEM): A range of kernel memory space where pages are temporarily mapped and unmapped. It is used for single-time data buffers.\n",
      "* Low Memory (LOWMEM): A statically mapped part of the 1GB kernel space that is used by the kernel directly.\n",
      "\n",
      "[[ ## completed ## ]]\u001b[0m\n",
      "\n",
      "\n",
      "\n",
      "\n",
      "\n"
     ]
    }
   ],
   "source": [
    "dspy.inspect_history()"
   ]
  },
  {
   "cell_type": "markdown",
   "metadata": {},
   "source": [
    "# Evaluate RAG"
   ]
  },
  {
   "cell_type": "code",
   "execution_count": 34,
   "metadata": {},
   "outputs": [
    {
     "data": {
      "text/plain": [
       "(200, 300, 500)"
      ]
     },
     "execution_count": 34,
     "metadata": {},
     "output_type": "execute_result"
    }
   ],
   "source": [
    "import random\n",
    "\n",
    "qa_examples = [dspy.Example(**data).with_inputs(\"question\") for data in qa]\n",
    "random.Random(23).shuffle(qa_examples)\n",
    "\n",
    "train, dev, test = qa_examples[:200], qa_examples[200:500], qa_examples[500:1000]\n",
    "len(train), len(dev), len(test)"
   ]
  },
  {
   "cell_type": "code",
   "execution_count": 35,
   "metadata": {},
   "outputs": [
    {
     "data": {
      "text/plain": [
       "Example({'question': 'i got an email threatening to ddos me if i dont pay a ransom. what should i do?', 'response': \"When faced with threats of DDoS extortion, the advised action is to ignore them, as these are often scams without real consequences.  \\nIf you receive such an email, it's recommended to verify if the threat is genuine by looking up the associated Bitcoin address to ascertain its authenticity. \\nNevertheless, to be safe, you should report the incident to relevant parties such as your service provider's abuse team, your hosting company, and possibly law enforcement agencies, sending them an original copy of the threatening e-mail.  \\nSharing the details with your VPS vendor is also recommended since any potential attack could impact their network.  \\nAlways ensure the legitimacy of any threat before considering payment, and maintain robust security measures.\", 'gold_doc_ids': [5876, 5877, 5879, 5880, 5885]}) (input_keys={'question'})"
      ]
     },
     "execution_count": 35,
     "metadata": {},
     "output_type": "execute_result"
    }
   ],
   "source": [
    "dev[2]"
   ]
  },
  {
   "cell_type": "code",
   "execution_count": 36,
   "metadata": {},
   "outputs": [],
   "source": [
    "metric = SemanticF1(decompositional=True)\n",
    "evaluate = dspy.Evaluate(\n",
    "    devset=dev, metric=metric, num_threads=4, display_progress=True, display_table=True\n",
    ")"
   ]
  },
  {
   "cell_type": "code",
   "execution_count": 37,
   "metadata": {},
   "outputs": [
    {
     "name": "stdout",
     "output_type": "stream",
     "text": [
      "Average Metric: 0.00 / 0 (0%):   1%|          | 3/300 [22:53<37:46:30, 457.88s/it]s/it]\n",
      "Average Metric: 0.00 / 0 (0%):   0%|          | 1/300 [20:00<99:43:12, 1200.64s/it]\n",
      "Average Metric: 0.00 / 0 (0%):   1%|          | 2/300 [19:11<47:40:31, 575.95s/it]\n",
      "Average Metric: 0.00 / 0 (0%):   1%|          | 3/300 [18:25<30:24:15, 368.54s/it]\n",
      "Average Metric: 184.55 / 300 (61.5%): 100%|██████████| 300/300 [25:41<00:00,  5.14s/it]"
     ]
    },
    {
     "name": "stderr",
     "output_type": "stream",
     "text": [
      "2024/12/30 20:14:38 INFO dspy.evaluate.evaluate: Average Metric: 184.55205669811133 / 300 (61.5%)\n"
     ]
    },
    {
     "name": "stdout",
     "output_type": "stream",
     "text": [
      "\n"
     ]
    },
    {
     "data": {
      "text/html": [
       "<div>\n",
       "<style scoped>\n",
       "    .dataframe tbody tr th:only-of-type {\n",
       "        vertical-align: middle;\n",
       "    }\n",
       "\n",
       "    .dataframe tbody tr th {\n",
       "        vertical-align: top;\n",
       "    }\n",
       "\n",
       "    .dataframe thead th {\n",
       "        text-align: right;\n",
       "    }\n",
       "</style>\n",
       "<table border=\"1\" class=\"dataframe\">\n",
       "  <thead>\n",
       "    <tr style=\"text-align: right;\">\n",
       "      <th></th>\n",
       "      <th>question</th>\n",
       "      <th>example_response</th>\n",
       "      <th>gold_doc_ids</th>\n",
       "      <th>reasoning</th>\n",
       "      <th>pred_response</th>\n",
       "      <th>SemanticF1</th>\n",
       "    </tr>\n",
       "  </thead>\n",
       "  <tbody>\n",
       "    <tr>\n",
       "      <th>0</th>\n",
       "      <td>how do i transfer edited photos from my iphone to my computer?</td>\n",
       "      <td>AirDrop or email the photo to yourself, or, if you've enabled iClo...</td>\n",
       "      <td>[6048]</td>\n",
       "      <td>The question is about transferring edited photos from an iPhone to...</td>\n",
       "      <td>To transfer edited photos from your iPhone to your computer, you c...</td>\n",
       "      <td>✔️ [1.000]</td>\n",
       "    </tr>\n",
       "    <tr>\n",
       "      <th>1</th>\n",
       "      <td>what is the difference between a lan and wan port?</td>\n",
       "      <td>The differences between LANs and WANs tend to be at the physical a...</td>\n",
       "      <td>[1263, 1276]</td>\n",
       "      <td>The question asks about the difference between a LAN and WAN port....</td>\n",
       "      <td>The main difference between a LAN and WAN port lies in their purpo...</td>\n",
       "      <td>✔️ [0.889]</td>\n",
       "    </tr>\n",
       "    <tr>\n",
       "      <th>2</th>\n",
       "      <td>i got an email threatening to ddos me if i dont pay a ransom. what...</td>\n",
       "      <td>When faced with threats of DDoS extortion, the advised action is t...</td>\n",
       "      <td>[5876, 5877, 5879, 5880, 5885]</td>\n",
       "      <td>Based on the provided context, it appears that the email threateni...</td>\n",
       "      <td>Ignore the email threatening to DDoS you. It's likely a scam, and ...</td>\n",
       "      <td>✔️ [0.774]</td>\n",
       "    </tr>\n",
       "    <tr>\n",
       "      <th>3</th>\n",
       "      <td>is constantly looking for code examples a sign of a bad developer?</td>\n",
       "      <td>Being a developer who searches for code examples does not imply in...</td>\n",
       "      <td>[5081, 5084, 5087]</td>\n",
       "      <td>The question is asking whether constantly looking for code example...</td>\n",
       "      <td>It's not necessarily a sign of a bad developer to constantly look ...</td>\n",
       "      <td>✔️ [0.789]</td>\n",
       "    </tr>\n",
       "    <tr>\n",
       "      <th>4</th>\n",
       "      <td>what is the difference between 16gb and 32gb?</td>\n",
       "      <td>Other than cost (for the initial purchase and potentially to repai...</td>\n",
       "      <td>[7242, 7243, 7244]</td>\n",
       "      <td>The context discusses the differences in storage capacity between ...</td>\n",
       "      <td>The main difference between 16GB and 32GB is the amount of storage...</td>\n",
       "      <td>✔️ [0.667]</td>\n",
       "    </tr>\n",
       "    <tr>\n",
       "      <th>...</th>\n",
       "      <td>...</td>\n",
       "      <td>...</td>\n",
       "      <td>...</td>\n",
       "      <td>...</td>\n",
       "      <td>...</td>\n",
       "      <td>...</td>\n",
       "    </tr>\n",
       "    <tr>\n",
       "      <th>295</th>\n",
       "      <td>how to stop os x from writing spotlight and trash files to memory ...</td>\n",
       "      <td>To do so, I utilize two tools: Clean Eject, which is a free applic...</td>\n",
       "      <td>[3234]</td>\n",
       "      <td>The question is asking how to prevent OS X from writing Spotlight ...</td>\n",
       "      <td>To stop OS X from writing Spotlight and Trash files to memory card...</td>\n",
       "      <td>✔️ [0.857]</td>\n",
       "    </tr>\n",
       "    <tr>\n",
       "      <th>296</th>\n",
       "      <td>im a subversion geek, why should i consider or not consider mercur...</td>\n",
       "      <td>Merging large commits in subversion can be uncomfortable. In contr...</td>\n",
       "      <td>[2498, 2500, 2502, 2504, 2785]</td>\n",
       "      <td>The question is asking why a Subversion geek should consider or no...</td>\n",
       "      <td>You might consider Mercurial or Git if your team is distributed, w...</td>\n",
       "      <td>✔️ [0.480]</td>\n",
       "    </tr>\n",
       "    <tr>\n",
       "      <th>297</th>\n",
       "      <td>how do you explain the necessity of nuke it from orbit to manageme...</td>\n",
       "      <td>Analogies comparing computer viruses to biological viruses can be ...</td>\n",
       "      <td>[5060, 5065, 5067, 5068, 5069, 5070, 5071]</td>\n",
       "      <td>The concept of \"nuke it from orbit\" refers to a drastic measure of...</td>\n",
       "      <td>When explaining the necessity of \"nuke it from orbit\" to managemen...</td>\n",
       "      <td>✔️ [0.333]</td>\n",
       "    </tr>\n",
       "    <tr>\n",
       "      <th>298</th>\n",
       "      <td>how can i instruct yum to install a specific version of package x?</td>\n",
       "      <td>Download the rpm file and then command yum to execute a local inst...</td>\n",
       "      <td>[1187]</td>\n",
       "      <td>To instruct yum to install a specific version of package X, we can...</td>\n",
       "      <td>You can instruct yum to install a specific version of package X by...</td>\n",
       "      <td>✔️ [0.857]</td>\n",
       "    </tr>\n",
       "    <tr>\n",
       "      <th>299</th>\n",
       "      <td>is this a violation of the liskov substitution principle?</td>\n",
       "      <td>There is largely a consensus on the fact that there is a violation...</td>\n",
       "      <td>[6654, 6655, 6656, 6657, 6684, 1566, 7057, 889]</td>\n",
       "      <td>The Liskov Substitution Principle (LSP) states that a base class s...</td>\n",
       "      <td>Based on the provided information, it is unclear whether SonX is a...</td>\n",
       "      <td>✔️ [0.400]</td>\n",
       "    </tr>\n",
       "  </tbody>\n",
       "</table>\n",
       "<p>300 rows × 6 columns</p>\n",
       "</div>"
      ],
      "text/plain": [
       "                                                                  question  \\\n",
       "0           how do i transfer edited photos from my iphone to my computer?   \n",
       "1                       what is the difference between a lan and wan port?   \n",
       "2    i got an email threatening to ddos me if i dont pay a ransom. what...   \n",
       "3       is constantly looking for code examples a sign of a bad developer?   \n",
       "4                            what is the difference between 16gb and 32gb?   \n",
       "..                                                                     ...   \n",
       "295  how to stop os x from writing spotlight and trash files to memory ...   \n",
       "296  im a subversion geek, why should i consider or not consider mercur...   \n",
       "297  how do you explain the necessity of nuke it from orbit to manageme...   \n",
       "298     how can i instruct yum to install a specific version of package x?   \n",
       "299              is this a violation of the liskov substitution principle?   \n",
       "\n",
       "                                                          example_response  \\\n",
       "0    AirDrop or email the photo to yourself, or, if you've enabled iClo...   \n",
       "1    The differences between LANs and WANs tend to be at the physical a...   \n",
       "2    When faced with threats of DDoS extortion, the advised action is t...   \n",
       "3    Being a developer who searches for code examples does not imply in...   \n",
       "4    Other than cost (for the initial purchase and potentially to repai...   \n",
       "..                                                                     ...   \n",
       "295  To do so, I utilize two tools: Clean Eject, which is a free applic...   \n",
       "296  Merging large commits in subversion can be uncomfortable. In contr...   \n",
       "297  Analogies comparing computer viruses to biological viruses can be ...   \n",
       "298  Download the rpm file and then command yum to execute a local inst...   \n",
       "299  There is largely a consensus on the fact that there is a violation...   \n",
       "\n",
       "                                        gold_doc_ids  \\\n",
       "0                                             [6048]   \n",
       "1                                       [1263, 1276]   \n",
       "2                     [5876, 5877, 5879, 5880, 5885]   \n",
       "3                                 [5081, 5084, 5087]   \n",
       "4                                 [7242, 7243, 7244]   \n",
       "..                                               ...   \n",
       "295                                           [3234]   \n",
       "296                   [2498, 2500, 2502, 2504, 2785]   \n",
       "297       [5060, 5065, 5067, 5068, 5069, 5070, 5071]   \n",
       "298                                           [1187]   \n",
       "299  [6654, 6655, 6656, 6657, 6684, 1566, 7057, 889]   \n",
       "\n",
       "                                                                 reasoning  \\\n",
       "0    The question is about transferring edited photos from an iPhone to...   \n",
       "1    The question asks about the difference between a LAN and WAN port....   \n",
       "2    Based on the provided context, it appears that the email threateni...   \n",
       "3    The question is asking whether constantly looking for code example...   \n",
       "4    The context discusses the differences in storage capacity between ...   \n",
       "..                                                                     ...   \n",
       "295  The question is asking how to prevent OS X from writing Spotlight ...   \n",
       "296  The question is asking why a Subversion geek should consider or no...   \n",
       "297  The concept of \"nuke it from orbit\" refers to a drastic measure of...   \n",
       "298  To instruct yum to install a specific version of package X, we can...   \n",
       "299  The Liskov Substitution Principle (LSP) states that a base class s...   \n",
       "\n",
       "                                                             pred_response  \\\n",
       "0    To transfer edited photos from your iPhone to your computer, you c...   \n",
       "1    The main difference between a LAN and WAN port lies in their purpo...   \n",
       "2    Ignore the email threatening to DDoS you. It's likely a scam, and ...   \n",
       "3    It's not necessarily a sign of a bad developer to constantly look ...   \n",
       "4    The main difference between 16GB and 32GB is the amount of storage...   \n",
       "..                                                                     ...   \n",
       "295  To stop OS X from writing Spotlight and Trash files to memory card...   \n",
       "296  You might consider Mercurial or Git if your team is distributed, w...   \n",
       "297  When explaining the necessity of \"nuke it from orbit\" to managemen...   \n",
       "298  You can instruct yum to install a specific version of package X by...   \n",
       "299  Based on the provided information, it is unclear whether SonX is a...   \n",
       "\n",
       "     SemanticF1  \n",
       "0    ✔️ [1.000]  \n",
       "1    ✔️ [0.889]  \n",
       "2    ✔️ [0.774]  \n",
       "3    ✔️ [0.789]  \n",
       "4    ✔️ [0.667]  \n",
       "..          ...  \n",
       "295  ✔️ [0.857]  \n",
       "296  ✔️ [0.480]  \n",
       "297  ✔️ [0.333]  \n",
       "298  ✔️ [0.857]  \n",
       "299  ✔️ [0.400]  \n",
       "\n",
       "[300 rows x 6 columns]"
      ]
     },
     "metadata": {},
     "output_type": "display_data"
    },
    {
     "data": {
      "text/plain": [
       "61.52"
      ]
     },
     "execution_count": 37,
     "metadata": {},
     "output_type": "execute_result"
    }
   ],
   "source": [
    "evaluate(RAG())"
   ]
  },
  {
   "cell_type": "code",
   "execution_count": null,
   "metadata": {},
   "outputs": [],
   "source": []
  }
 ],
 "metadata": {
  "kernelspec": {
   "display_name": "mlenv",
   "language": "python",
   "name": "python3"
  },
  "language_info": {
   "codemirror_mode": {
    "name": "ipython",
    "version": 3
   },
   "file_extension": ".py",
   "mimetype": "text/x-python",
   "name": "python",
   "nbconvert_exporter": "python",
   "pygments_lexer": "ipython3",
   "version": "3.12.6"
  }
 },
 "nbformat": 4,
 "nbformat_minor": 2
}
